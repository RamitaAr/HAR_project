{
 "cells": [
  {
   "cell_type": "code",
   "execution_count": 1,
   "id": "91f4c56a-4f88-44dc-8db4-43f30bd54fd6",
   "metadata": {
    "execution": {
     "iopub.execute_input": "2023-11-01T03:28:39.280527Z",
     "iopub.status.busy": "2023-11-01T03:28:39.280155Z",
     "iopub.status.idle": "2023-11-01T03:28:55.603922Z",
     "shell.execute_reply": "2023-11-01T03:28:55.603264Z",
     "shell.execute_reply.started": "2023-11-01T03:28:39.280464Z"
    },
    "tags": []
   },
   "outputs": [
    {
     "name": "stderr",
     "output_type": "stream",
     "text": [
      "/data/miniconda3/envs/python_3.10.x/lib/python3.10/site-packages/scipy/__init__.py:146: UserWarning: A NumPy version >=1.17.3 and <1.25.0 is required for this version of SciPy (detected version 1.26.1\n",
      "  warnings.warn(f\"A NumPy version >={np_minversion} and <{np_maxversion}\"\n",
      "2023-10-31 23:28:42.456306: I tensorflow/core/platform/cpu_feature_guard.cc:182] This TensorFlow binary is optimized to use available CPU instructions in performance-critical operations.\n",
      "To enable the following instructions: AVX2 AVX512F FMA, in other operations, rebuild TensorFlow with the appropriate compiler flags.\n",
      "2023-10-31 23:28:46.647881: W tensorflow/compiler/tf2tensorrt/utils/py_utils.cc:38] TF-TRT Warning: Could not find TensorRT\n"
     ]
    }
   ],
   "source": [
    "from __future__ import print_function\n",
    "from matplotlib import pyplot as plt\n",
    "%matplotlib inline\n",
    "import numpy as np\n",
    "import pandas as pd\n",
    "import seaborn as sns\n",
    "import coremltools\n",
    "from scipy import stats\n",
    "from IPython.display import display, HTML\n",
    "\n",
    "from sklearn import metrics\n",
    "from sklearn.metrics import classification_report\n",
    "from sklearn import preprocessing\n",
    "\n",
    "import keras\n",
    "from keras.models import Sequential\n",
    "from keras import regularizers\n",
    "from keras.layers import Dense, Dropout, Flatten, Reshape, Conv1D, MaxPooling1D, BatchNormalization, AveragePooling1D\n",
    "from keras.layers import Conv2D, MaxPooling2D\n",
    "from keras.utils import np_utils"
   ]
  },
  {
   "cell_type": "code",
   "execution_count": 2,
   "id": "e99532ec-b3cf-4e8c-8e9a-40959a19c916",
   "metadata": {
    "execution": {
     "iopub.execute_input": "2023-11-01T03:29:23.065086Z",
     "iopub.status.busy": "2023-11-01T03:29:23.064553Z",
     "iopub.status.idle": "2023-11-01T03:29:23.070730Z",
     "shell.execute_reply": "2023-11-01T03:29:23.070140Z",
     "shell.execute_reply.started": "2023-11-01T03:29:23.065038Z"
    },
    "tags": []
   },
   "outputs": [
    {
     "name": "stdout",
     "output_type": "stream",
     "text": [
      "keras version  2.12.0\n"
     ]
    }
   ],
   "source": [
    "# Set some standard parameters upfront\n",
    "pd.options.display.float_format = '{:.1f}'.format # result data will be float with 1 decimal point\n",
    "sns.set() # Default seaborn look and feel\n",
    "plt.style.use('ggplot') # set plotting style\n",
    "print('keras version ', keras.__version__)\n",
    "\n",
    "# The number of steps within one time segment\n",
    "TIME_PERIODS = 80\n",
    "# The steps to take from one segment to the next; if this value is equal to\n",
    "# TIME_PERIODS, then there is no overlap between the segments\n",
    "STEP_DISTANCE = 40"
   ]
  },
  {
   "cell_type": "code",
   "execution_count": 3,
   "id": "5c49390b-f29e-4439-b4da-35bb16f5fec0",
   "metadata": {
    "execution": {
     "iopub.execute_input": "2023-11-01T03:29:30.170513Z",
     "iopub.status.busy": "2023-11-01T03:29:30.170089Z",
     "iopub.status.idle": "2023-11-01T03:29:30.174507Z",
     "shell.execute_reply": "2023-11-01T03:29:30.173768Z",
     "shell.execute_reply.started": "2023-11-01T03:29:30.170488Z"
    },
    "tags": []
   },
   "outputs": [],
   "source": [
    "'''Use this set of labels to train all 7 activities'''\n",
    "# Same labels will be reused throughout the program\n",
    "LABELS = ['Downstairs',\n",
    "          'Jogging',\n",
    "          'Sitting',\n",
    "          'Standing',\n",
    "          'Upstairs',\n",
    "          'Walking',\n",
    "          'Laying']"
   ]
  },
  {
   "cell_type": "code",
   "execution_count": 4,
   "id": "83df679c-d15d-46ec-8419-e144f119ef3c",
   "metadata": {
    "execution": {
     "iopub.execute_input": "2023-11-01T03:29:41.114568Z",
     "iopub.status.busy": "2023-11-01T03:29:41.114149Z",
     "iopub.status.idle": "2023-11-01T03:29:41.657568Z",
     "shell.execute_reply": "2023-11-01T03:29:41.656985Z",
     "shell.execute_reply.started": "2023-11-01T03:29:41.114543Z"
    },
    "tags": []
   },
   "outputs": [
    {
     "name": "stdout",
     "output_type": "stream",
     "text": [
      "(1152954, 5)\n",
      "Number of columns in the dataframe: 5\n",
      "Number of rows in the dataframe: 1152954\n",
      "\n"
     ]
    },
    {
     "data": {
      "text/html": [
       "<div>\n",
       "<style scoped>\n",
       "    .dataframe tbody tr th:only-of-type {\n",
       "        vertical-align: middle;\n",
       "    }\n",
       "\n",
       "    .dataframe tbody tr th {\n",
       "        vertical-align: top;\n",
       "    }\n",
       "\n",
       "    .dataframe thead th {\n",
       "        text-align: right;\n",
       "    }\n",
       "</style>\n",
       "<table border=\"1\" class=\"dataframe\">\n",
       "  <thead>\n",
       "    <tr style=\"text-align: right;\">\n",
       "      <th></th>\n",
       "      <th>user-id</th>\n",
       "      <th>x-axis</th>\n",
       "      <th>y-axis</th>\n",
       "      <th>z-axis</th>\n",
       "      <th>activity</th>\n",
       "    </tr>\n",
       "  </thead>\n",
       "  <tbody>\n",
       "    <tr>\n",
       "      <th>1152934</th>\n",
       "      <td>37</td>\n",
       "      <td>0.1</td>\n",
       "      <td>0.5</td>\n",
       "      <td>0.6</td>\n",
       "      <td>Laying</td>\n",
       "    </tr>\n",
       "    <tr>\n",
       "      <th>1152935</th>\n",
       "      <td>37</td>\n",
       "      <td>0.1</td>\n",
       "      <td>0.5</td>\n",
       "      <td>0.5</td>\n",
       "      <td>Laying</td>\n",
       "    </tr>\n",
       "    <tr>\n",
       "      <th>1152936</th>\n",
       "      <td>37</td>\n",
       "      <td>0.1</td>\n",
       "      <td>0.5</td>\n",
       "      <td>0.5</td>\n",
       "      <td>Laying</td>\n",
       "    </tr>\n",
       "    <tr>\n",
       "      <th>1152937</th>\n",
       "      <td>37</td>\n",
       "      <td>0.1</td>\n",
       "      <td>0.5</td>\n",
       "      <td>0.6</td>\n",
       "      <td>Laying</td>\n",
       "    </tr>\n",
       "    <tr>\n",
       "      <th>1152938</th>\n",
       "      <td>37</td>\n",
       "      <td>0.1</td>\n",
       "      <td>0.5</td>\n",
       "      <td>0.5</td>\n",
       "      <td>Laying</td>\n",
       "    </tr>\n",
       "    <tr>\n",
       "      <th>1152939</th>\n",
       "      <td>37</td>\n",
       "      <td>0.1</td>\n",
       "      <td>0.5</td>\n",
       "      <td>0.5</td>\n",
       "      <td>Laying</td>\n",
       "    </tr>\n",
       "    <tr>\n",
       "      <th>1152940</th>\n",
       "      <td>37</td>\n",
       "      <td>0.1</td>\n",
       "      <td>0.5</td>\n",
       "      <td>0.5</td>\n",
       "      <td>Laying</td>\n",
       "    </tr>\n",
       "    <tr>\n",
       "      <th>1152941</th>\n",
       "      <td>37</td>\n",
       "      <td>0.1</td>\n",
       "      <td>0.5</td>\n",
       "      <td>0.6</td>\n",
       "      <td>Laying</td>\n",
       "    </tr>\n",
       "    <tr>\n",
       "      <th>1152942</th>\n",
       "      <td>37</td>\n",
       "      <td>0.1</td>\n",
       "      <td>0.5</td>\n",
       "      <td>0.5</td>\n",
       "      <td>Laying</td>\n",
       "    </tr>\n",
       "    <tr>\n",
       "      <th>1152943</th>\n",
       "      <td>37</td>\n",
       "      <td>0.1</td>\n",
       "      <td>0.5</td>\n",
       "      <td>0.5</td>\n",
       "      <td>Laying</td>\n",
       "    </tr>\n",
       "    <tr>\n",
       "      <th>1152944</th>\n",
       "      <td>37</td>\n",
       "      <td>0.1</td>\n",
       "      <td>0.5</td>\n",
       "      <td>0.6</td>\n",
       "      <td>Laying</td>\n",
       "    </tr>\n",
       "    <tr>\n",
       "      <th>1152945</th>\n",
       "      <td>37</td>\n",
       "      <td>0.1</td>\n",
       "      <td>0.5</td>\n",
       "      <td>0.5</td>\n",
       "      <td>Laying</td>\n",
       "    </tr>\n",
       "    <tr>\n",
       "      <th>1152946</th>\n",
       "      <td>37</td>\n",
       "      <td>0.1</td>\n",
       "      <td>0.5</td>\n",
       "      <td>0.5</td>\n",
       "      <td>Laying</td>\n",
       "    </tr>\n",
       "    <tr>\n",
       "      <th>1152947</th>\n",
       "      <td>37</td>\n",
       "      <td>0.1</td>\n",
       "      <td>0.5</td>\n",
       "      <td>0.5</td>\n",
       "      <td>Laying</td>\n",
       "    </tr>\n",
       "    <tr>\n",
       "      <th>1152948</th>\n",
       "      <td>37</td>\n",
       "      <td>0.1</td>\n",
       "      <td>0.5</td>\n",
       "      <td>0.5</td>\n",
       "      <td>Laying</td>\n",
       "    </tr>\n",
       "    <tr>\n",
       "      <th>1152949</th>\n",
       "      <td>37</td>\n",
       "      <td>0.1</td>\n",
       "      <td>0.5</td>\n",
       "      <td>0.5</td>\n",
       "      <td>Laying</td>\n",
       "    </tr>\n",
       "    <tr>\n",
       "      <th>1152950</th>\n",
       "      <td>37</td>\n",
       "      <td>0.1</td>\n",
       "      <td>0.5</td>\n",
       "      <td>0.6</td>\n",
       "      <td>Laying</td>\n",
       "    </tr>\n",
       "    <tr>\n",
       "      <th>1152951</th>\n",
       "      <td>37</td>\n",
       "      <td>0.1</td>\n",
       "      <td>0.5</td>\n",
       "      <td>0.5</td>\n",
       "      <td>Laying</td>\n",
       "    </tr>\n",
       "    <tr>\n",
       "      <th>1152952</th>\n",
       "      <td>37</td>\n",
       "      <td>0.1</td>\n",
       "      <td>0.5</td>\n",
       "      <td>0.5</td>\n",
       "      <td>Laying</td>\n",
       "    </tr>\n",
       "    <tr>\n",
       "      <th>1152953</th>\n",
       "      <td>37</td>\n",
       "      <td>0.1</td>\n",
       "      <td>0.5</td>\n",
       "      <td>0.5</td>\n",
       "      <td>Laying</td>\n",
       "    </tr>\n",
       "  </tbody>\n",
       "</table>\n",
       "</div>"
      ],
      "text/plain": [
       "         user-id  x-axis  y-axis  z-axis activity\n",
       "1152934       37     0.1     0.5     0.6   Laying\n",
       "1152935       37     0.1     0.5     0.5   Laying\n",
       "1152936       37     0.1     0.5     0.5   Laying\n",
       "1152937       37     0.1     0.5     0.6   Laying\n",
       "1152938       37     0.1     0.5     0.5   Laying\n",
       "1152939       37     0.1     0.5     0.5   Laying\n",
       "1152940       37     0.1     0.5     0.5   Laying\n",
       "1152941       37     0.1     0.5     0.6   Laying\n",
       "1152942       37     0.1     0.5     0.5   Laying\n",
       "1152943       37     0.1     0.5     0.5   Laying\n",
       "1152944       37     0.1     0.5     0.6   Laying\n",
       "1152945       37     0.1     0.5     0.5   Laying\n",
       "1152946       37     0.1     0.5     0.5   Laying\n",
       "1152947       37     0.1     0.5     0.5   Laying\n",
       "1152948       37     0.1     0.5     0.5   Laying\n",
       "1152949       37     0.1     0.5     0.5   Laying\n",
       "1152950       37     0.1     0.5     0.6   Laying\n",
       "1152951       37     0.1     0.5     0.5   Laying\n",
       "1152952       37     0.1     0.5     0.5   Laying\n",
       "1152953       37     0.1     0.5     0.5   Laying"
      ]
     },
     "execution_count": 4,
     "metadata": {},
     "output_type": "execute_result"
    }
   ],
   "source": [
    "# create functions to read data and show information\n",
    "import pandas as pd\n",
    "def read_data(file_path):\n",
    "\n",
    "    column_names = ['user-id',\n",
    "                    'x-axis',\n",
    "                    'y-axis',\n",
    "                    'z-axis',\n",
    "                    'activity']\n",
    "    # import data set: https://pandas.pydata.org/pandas-docs/stable/reference/api/pandas.read_csv.html\n",
    "    df = pd.read_csv(file_path,\n",
    "                     delimiter= ',',\n",
    "                     header= None,                 # column names are passed explicitly so header = none\n",
    "                     names=column_names,          #List of column names to use\n",
    "                     lineterminator = '\\n')        #lineterminator: break file into lines\n",
    "                       \n",
    "    # This is very important otherwise the model will not fit and loss\n",
    "    # will show up as NAN\n",
    "    df.dropna(axis=0,                             # determine rows or column to removed (0 = rows, 1 = column)\n",
    "              how='any',                          # Determine if row or column is removed from DataFrame, when we have at least one NA or all NA. (Any = if one NA value present, drop that row or column)\n",
    "              inplace=True)                       # Whether to modify the DataFrame rather than creating a new one (true = modified)\n",
    "\n",
    "    return df\n",
    "\n",
    "def show_basic_dataframe_info(dataframe):\n",
    "    print(dataframe.shape)\n",
    "    \n",
    "    # Shape and how many rows and columns\n",
    "    print('Number of columns in the dataframe: %i' % (dataframe.shape[1]))     # .shape[1] = output is no. of column. \n",
    "    print('Number of rows in the dataframe: %i\\n' % (dataframe.shape[0]))      # .shape[0] = output is no. of rows\n",
    "\n",
    "\n",
    "# Load data set containing all the data from csv\n",
    "df = read_data('../Data/Raw_WISDM_UCI(laying)_updated.txt') \n",
    "\n",
    "# show data\n",
    "show_basic_dataframe_info(df)\n",
    "df.tail(20)"
   ]
  },
  {
   "cell_type": "code",
   "execution_count": 5,
   "id": "267a0686-fdc9-4376-90d4-f099d9085805",
   "metadata": {
    "execution": {
     "iopub.execute_input": "2023-11-01T03:29:50.531416Z",
     "iopub.status.busy": "2023-11-01T03:29:50.530951Z",
     "iopub.status.idle": "2023-11-01T03:29:50.932693Z",
     "shell.execute_reply": "2023-11-01T03:29:50.932026Z",
     "shell.execute_reply.started": "2023-11-01T03:29:50.531391Z"
    },
    "tags": []
   },
   "outputs": [
    {
     "name": "stdout",
     "output_type": "stream",
     "text": [
      "activity\n",
      "Walking       424398\n",
      "Jogging       342179\n",
      "Upstairs      122869\n",
      "Downstairs    100427\n",
      "Sitting        59939\n",
      "Laying         54747\n",
      "Standing       48395\n",
      "Name: count, dtype: int64\n"
     ]
    },
    {
     "data": {
      "image/png": "[encoded data removed]",
      "text/plain": [
       "<Figure size 432x288 with 1 Axes>"
      ]
     },
     "metadata": {},
     "output_type": "display_data"
    }
   ],
   "source": [
    "#Show how many training examples exist for each of the six activities\n",
    "# Show how many training examples exist for each of the six activities\n",
    "bar_colors = ['tab:red', 'tab:blue', 'tab:purple', 'tab:gray', 'tab:pink', 'tab:green'] # change bar color\n",
    "value_counts = df['activity'].value_counts()\n",
    "print(value_counts)\n",
    "value_counts.plot(kind='bar',\n",
    "                  title='Activity Counts by Types',\n",
    "                  color = bar_colors)\n",
    "\n",
    "plt.show()"
   ]
  },
  {
   "cell_type": "code",
   "execution_count": 6,
   "id": "41cdc0cd-923e-4b02-acd4-19bf18e47267",
   "metadata": {
    "execution": {
     "iopub.execute_input": "2023-11-01T03:30:01.223636Z",
     "iopub.status.busy": "2023-11-01T03:30:01.223208Z",
     "iopub.status.idle": "2023-11-01T03:30:01.395989Z",
     "shell.execute_reply": "2023-11-01T03:30:01.395288Z",
     "shell.execute_reply.started": "2023-11-01T03:30:01.223600Z"
    },
    "tags": []
   },
   "outputs": [],
   "source": [
    "# add 1 more column name \"activityencoded\" to convert each activity into nummerical labels since deep neural network cannot work with non-numerical labels.\n",
    "# Define column name of the label vector\n",
    "LABEL = 'ActivityEncoded'\n",
    "\n",
    "# Transform the labels from String to Integer via LabelEncoder \n",
    "# class from scikit-learn used for converting categorizable variable into integer for algorithm that require numerical input data\n",
    "le = preprocessing.LabelEncoder()          \n",
    "\n",
    "# Add a new column to the existing DataFrame with the encoded values\n",
    "df[LABEL] = le.fit_transform(df['activity'].values.ravel())"
   ]
  },
  {
   "cell_type": "code",
   "execution_count": 44,
   "id": "20dde7d9-f52d-4ba7-8e2c-ad2f45365f27",
   "metadata": {
    "execution": {
     "iopub.execute_input": "2023-07-17T17:18:18.443978Z",
     "iopub.status.busy": "2023-07-17T17:18:18.443540Z",
     "iopub.status.idle": "2023-07-17T17:18:18.513115Z",
     "shell.execute_reply": "2023-07-17T17:18:18.512457Z",
     "shell.execute_reply.started": "2023-07-17T17:18:18.443954Z"
    },
    "tags": []
   },
   "outputs": [],
   "source": [
    "'''Already did max scale in raw data '''\n",
    "# def max_scale_round(df):\n",
    "#     pd.options.mode.chained_assignment = None  # allow to modify the DataFrame or Series using chained indexing without generating a warning. default='warn', none will ignore the warning\n",
    "#     df['x-axis'] = df['x-axis'] / df['x-axis'].max()\n",
    "#     df['y-axis'] = df['y-axis'] / df['y-axis'].max()\n",
    "#     df['z-axis'] = df['z-axis'] / df['z-axis'].max()\n",
    "#     # Round numbers\n",
    "#     df = df.round({'x-axis': 4, 'y-axis': 4, 'z-axis': 4})      #apply rounding to 4 decimal places for the three features (x,y,z) https://pandas.pydata.org/docs/reference/api/pandas.DataFrame.round.html \n",
    "#     return df\n",
    "\n",
    "# round_df = max_scale_round(df)"
   ]
  },
  {
   "cell_type": "code",
   "execution_count": 7,
   "id": "ab1a00d0-a6bc-478f-b20c-e2c0f0326478",
   "metadata": {
    "execution": {
     "iopub.execute_input": "2023-11-01T03:30:09.066541Z",
     "iopub.status.busy": "2023-11-01T03:30:09.066124Z",
     "iopub.status.idle": "2023-11-01T03:30:14.686621Z",
     "shell.execute_reply": "2023-11-01T03:30:14.685837Z",
     "shell.execute_reply.started": "2023-11-01T03:30:09.066515Z"
    },
    "tags": []
   },
   "outputs": [
    {
     "name": "stdout",
     "output_type": "stream",
     "text": [
      "[[[-0.0348  0.2512  0.2458]\n",
      "  [-0.0307 -0.0594  0.069 ]\n",
      "  [-0.0307 -0.0253 -0.4226]\n",
      "  ...\n",
      "  [ 0.3285  0.0722 -0.307 ]\n",
      "  [-0.3278 -0.0139  0.2264]\n",
      "  [ 0.0583 -0.1389  0.432 ]]\n",
      "\n",
      " [[ 0.284   0.0116 -0.2417]\n",
      "  [ 0.0922 -0.1652  0.5817]\n",
      "  [-0.1591  0.0307 -0.3953]\n",
      "  ...\n",
      "  [ 0.166   0.0056  0.3049]\n",
      "  [ 0.0097  0.5682  0.166 ]\n",
      "  [ 0.0389  0.4084 -0.0194]]\n",
      "\n",
      " [[ 0.0212 -0.1789 -0.2342]\n",
      "  [-0.1072 -0.0669 -0.1461]\n",
      "  [ 0.1768 -0.2035  0.3803]\n",
      "  ...\n",
      "  [-0.1403  0.5043  0.2757]\n",
      "  [ 0.2382  0.0604 -0.1757]\n",
      "  [ 0.3792 -0.4549 -0.5626]]\n",
      "\n",
      " ...\n",
      "\n",
      " [[ 0.0495  0.0627  0.0594]\n",
      "  [ 0.0693  0.0693  0.0561]\n",
      "  [ 0.0627  0.0594  0.0693]\n",
      "  ...\n",
      "  [ 0.5392  0.5428  0.5439]\n",
      "  [ 0.5487  0.5428  0.5439]\n",
      "  [ 0.5416  0.5416  0.538 ]]\n",
      "\n",
      " [[ 0.0528  0.0627  0.0561]\n",
      "  [ 0.0528  0.0726  0.0726]\n",
      "  [ 0.0693  0.0594  0.0627]\n",
      "  ...\n",
      "  [ 0.5451  0.5344  0.5416]\n",
      "  [ 0.5392  0.5475  0.5344]\n",
      "  [ 0.5511  0.5368  0.5451]]\n",
      "\n",
      " [[ 0.0924  0.0693  0.099 ]\n",
      "  [ 0.0891  0.0858  0.0924]\n",
      "  [ 0.0924  0.0858  0.0858]\n",
      "  ...\n",
      "  [ 0.5439  0.5344  0.5392]\n",
      "  [ 0.5451  0.5439  0.5475]\n",
      "  [ 0.5404  0.5392  0.5392]]]\n"
     ]
    }
   ],
   "source": [
    "# reshape data into segments using another function\n",
    "# This function will take in the dataframe and the label names \n",
    "#(the constant that we have defined at the beginning) as well as the length of each record. \n",
    "#In our case, let’s go with 80 steps.\n",
    "# function will also separate the features (x-acceleration, y-acceleration, z-acceleration) and the labels (associated activity).\n",
    "\n",
    "def create_segments_and_labels(df, time_steps, step, label_name):\n",
    "\n",
    "    # x, y, z acceleration as features\n",
    "    N_FEATURES = 3\n",
    "    # Number of steps to advance in each iteration (for me, it should always\n",
    "    # be equal to the time_steps in order to have no overlap between segments)\n",
    "    # step = time_steps\n",
    "    segments = []\n",
    "    labels = []\n",
    "    # get list of unique user\n",
    "    users = df['user-id'].unique()\n",
    "    #print(users)\n",
    "    for id in users:#users:\n",
    "        sub_df = df[df['user-id']==id]\n",
    "        for i in range(0, len(sub_df) - time_steps, step):     #obtain value in each axis from each segments\n",
    "            xs = sub_df['x-axis'].values[i: i + time_steps]\n",
    "            ys = sub_df['y-axis'].values[i: i + time_steps]\n",
    "            zs = sub_df['z-axis'].values[i: i + time_steps]\n",
    "            # Retrieve the most often used label in this segment\n",
    "            label = stats.mode(sub_df[label_name][i: i + time_steps])[0][0]\n",
    "            segments.append([xs, ys, zs])\n",
    "            labels.append(label)\n",
    "        #print(segments)\n",
    "        #print(labels)\n",
    "    # Bring the segments into a better shape\n",
    "    # np.asarray() create new numpy array from 'segments' list with all elements convert to 'float32' data type\n",
    "    # .reshaped() reshapes the newly created numpy array into a 3D array with time_steps time steps and N_FEATURES features per time step\n",
    "    # -1 is inferred by numpy and depends on the size of the original array and the given number of time steps and features. It is used to automatically determine the size of the first dimension to ensure that the reshape operation does not lose any data.\n",
    "    reshaped_segments = np.asarray(segments, dtype= np.float32).reshape(-1, time_steps, N_FEATURES)\n",
    "    print(reshaped_segments)\n",
    "    labels = np.asarray(labels)\n",
    "\n",
    "    return reshaped_segments, labels\n",
    "\n",
    "x, y = create_segments_and_labels(df,\n",
    "                                    TIME_PERIODS,\n",
    "                                    STEP_DISTANCE,\n",
    "                                     LABEL)"
   ]
  },
  {
   "cell_type": "code",
   "execution_count": 8,
   "id": "21ad1049-ef65-49e4-a947-10b22e5d1ad1",
   "metadata": {
    "execution": {
     "iopub.execute_input": "2023-11-01T03:30:28.068488Z",
     "iopub.status.busy": "2023-11-01T03:30:28.068066Z",
     "iopub.status.idle": "2023-11-01T03:30:28.127397Z",
     "shell.execute_reply": "2023-11-01T03:30:28.126774Z",
     "shell.execute_reply.started": "2023-11-01T03:30:28.068464Z"
    },
    "tags": []
   },
   "outputs": [
    {
     "name": "stdout",
     "output_type": "stream",
     "text": [
      "Train Data Shape: (23014, 80, 3)\n",
      "Test Data Shape: (5754, 80, 3)\n",
      "Train_y Data Shape: (23014,)\n",
      "Test_y Data Shape: (5754,)\n"
     ]
    }
   ],
   "source": [
    "# Split data into test set and training set\n",
    "from sklearn.model_selection import train_test_split\n",
    "\n",
    "x_train, x_test, y_train, y_test = train_test_split(x,y, test_size=0.2, random_state=42) \n",
    "\n",
    "# train_data will contain 80% of the rows\n",
    "# test_data will contain 20% of the rows\n",
    "\n",
    "# Print the shapes of the resulting dataframes\n",
    "print(\"Train Data Shape:\", x_train.shape)\n",
    "print(\"Test Data Shape:\", x_test.shape)\n",
    "print(\"Train_y Data Shape:\", y_train.shape)\n",
    "print(\"Test_y Data Shape:\", y_test.shape)"
   ]
  },
  {
   "cell_type": "code",
   "execution_count": 9,
   "id": "59b6dc4f-f8c6-469a-b72f-ac4121dbc297",
   "metadata": {
    "execution": {
     "iopub.execute_input": "2023-11-01T03:30:31.471534Z",
     "iopub.status.busy": "2023-11-01T03:30:31.471122Z",
     "iopub.status.idle": "2023-11-01T03:30:31.673893Z",
     "shell.execute_reply": "2023-11-01T03:30:31.673367Z",
     "shell.execute_reply.started": "2023-11-01T03:30:31.471508Z"
    },
    "tags": []
   },
   "outputs": [
    {
     "data": {
      "text/plain": [
       "<Axes: ylabel='count'>"
      ]
     },
     "execution_count": 9,
     "metadata": {},
     "output_type": "execute_result"
    },
    {
     "data": {
      "image/png": "[encoded data removed]",
      "text/plain": [
       "<Figure size 432x288 with 1 Axes>"
      ]
     },
     "metadata": {},
     "output_type": "display_data"
    }
   ],
   "source": [
    "sns.countplot(x=y_train)"
   ]
  },
  {
   "cell_type": "code",
   "execution_count": 10,
   "id": "18ff9134-b44c-48de-866e-acd76b84f37a",
   "metadata": {
    "execution": {
     "iopub.execute_input": "2023-11-01T03:30:35.184894Z",
     "iopub.status.busy": "2023-11-01T03:30:35.184489Z",
     "iopub.status.idle": "2023-11-01T03:30:35.586827Z",
     "shell.execute_reply": "2023-11-01T03:30:35.586257Z",
     "shell.execute_reply.started": "2023-11-01T03:30:35.184869Z"
    },
    "tags": []
   },
   "outputs": [
    {
     "data": {
      "text/plain": [
       "<Axes: ylabel='count'>"
      ]
     },
     "execution_count": 10,
     "metadata": {},
     "output_type": "execute_result"
    },
    {
     "data": {
      "image/png": "[encoded data removed]",
      "text/plain": [
       "<Figure size 432x288 with 1 Axes>"
      ]
     },
     "metadata": {},
     "output_type": "display_data"
    }
   ],
   "source": [
    "sns.countplot(x=y_test)"
   ]
  },
  {
   "cell_type": "code",
   "execution_count": 11,
   "id": "f332584d-91d9-4e7a-9033-23055a776b5e",
   "metadata": {
    "execution": {
     "iopub.execute_input": "2023-11-01T03:30:52.067455Z",
     "iopub.status.busy": "2023-11-01T03:30:52.067050Z",
     "iopub.status.idle": "2023-11-01T03:30:52.071626Z",
     "shell.execute_reply": "2023-11-01T03:30:52.071088Z",
     "shell.execute_reply.started": "2023-11-01T03:30:52.067430Z"
    },
    "tags": []
   },
   "outputs": [
    {
     "name": "stdout",
     "output_type": "stream",
     "text": [
      "['Downstairs', 'Jogging', 'Laying', 'Sitting', 'Standing', 'Upstairs', 'Walking']\n"
     ]
    }
   ],
   "source": [
    "# Set input & output dimensions in Deep neural network\n",
    "# num time period = 80, num sensors = 3 (x,y,z axis)\n",
    "num_time_periods, num_sensors = x_train.shape[1], x_train.shape[2]\n",
    "# Number of classes: This is the amount of nodes for our output layer in the neural network. \n",
    "num_classes = le.classes_.size \n",
    "# property of LabelEncoder(): returns the number of unique categories in the input data that were encoded\n",
    "# '.classes_ 'returns a sorted array of the unique categories in the input data\n",
    "# '.size' property returns the length of this array\n",
    "print(list(le.classes_))"
   ]
  },
  {
   "cell_type": "code",
   "execution_count": 12,
   "id": "af1a1469-de1c-4bb7-a9ac-5028c1348863",
   "metadata": {
    "execution": {
     "iopub.execute_input": "2023-11-01T03:30:58.301565Z",
     "iopub.status.busy": "2023-11-01T03:30:58.301194Z",
     "iopub.status.idle": "2023-11-01T03:30:58.306019Z",
     "shell.execute_reply": "2023-11-01T03:30:58.305357Z",
     "shell.execute_reply.started": "2023-11-01T03:30:58.301543Z"
    },
    "tags": []
   },
   "outputs": [
    {
     "name": "stdout",
     "output_type": "stream",
     "text": [
      "x_train shape: (23014, 240)\n",
      "input_shape: 240\n",
      "x_test shape: (5754, 240)\n"
     ]
    }
   ],
   "source": [
    "# convert 2D data (80x3) into a list of 240 values since Keras and Core ML cannot be used with multi-dimensional input data.\n",
    "input_shape = (num_time_periods*num_sensors)\n",
    "x_train = x_train.reshape(x_train.shape[0], input_shape) # reshape x_train array into 1D by slicing 20868 samples into various lists containing 240 elements\n",
    "x_test = x_test.reshape(x_test.shape[0], input_shape)\n",
    "print('x_train shape:', x_train.shape)\n",
    "print('input_shape:', input_shape)\n",
    "print('x_test shape:', x_test.shape)"
   ]
  },
  {
   "cell_type": "code",
   "execution_count": 13,
   "id": "8612f1c0-6d71-407b-bef1-bbb632ccc3ee",
   "metadata": {
    "execution": {
     "iopub.execute_input": "2023-11-01T03:31:04.209509Z",
     "iopub.status.busy": "2023-11-01T03:31:04.209144Z",
     "iopub.status.idle": "2023-11-01T03:31:04.219786Z",
     "shell.execute_reply": "2023-11-01T03:31:04.219157Z",
     "shell.execute_reply.started": "2023-11-01T03:31:04.209487Z"
    },
    "tags": []
   },
   "outputs": [],
   "source": [
    "# convert all feature data (x_train) and label data (y_train) into a datatype accepted by Keras.\n",
    "x_train = x_train.astype('float32')\n",
    "y_train = y_train.astype('float32')"
   ]
  },
  {
   "cell_type": "code",
   "execution_count": 14,
   "id": "6afb83d7-eeaa-47e9-ab2c-35879399e802",
   "metadata": {
    "execution": {
     "iopub.execute_input": "2023-11-01T03:31:08.068030Z",
     "iopub.status.busy": "2023-11-01T03:31:08.067610Z",
     "iopub.status.idle": "2023-11-01T03:31:08.072452Z",
     "shell.execute_reply": "2023-11-01T03:31:08.071907Z",
     "shell.execute_reply.started": "2023-11-01T03:31:08.068006Z"
    },
    "tags": []
   },
   "outputs": [
    {
     "name": "stdout",
     "output_type": "stream",
     "text": [
      "New y_train shape:  (23014, 7)\n",
      "New y_test shape:  (5754, 7)\n"
     ]
    }
   ],
   "source": [
    "# perform onehotencoder to convert labels into binary vector (numerical value: in this case 0 to 5 since we have 6 types of activity/labels)\n",
    "# use to_categorical() function from the keras.utils module to perform one-hot encoding. It takes 2 arguments: 1.catergorical data 2. total num of categories\n",
    "# also transformed the original array of integer labels into a 2D NumPy array of binary vectors, with one vector for each label.\n",
    "\n",
    "y_train_hot = np_utils.to_categorical(y_train, num_classes)\n",
    "print('New y_train shape: ', y_train_hot.shape)\n",
    "y_test_hot = np_utils.to_categorical(y_test, num_classes)\n",
    "print('New y_test shape: ', y_test_hot.shape)"
   ]
  },
  {
   "cell_type": "code",
   "execution_count": 16,
   "id": "1a9c2ef6-b6cb-42bc-83f8-dfbbacc50f10",
   "metadata": {
    "execution": {
     "iopub.execute_input": "2023-07-22T16:13:29.837300Z",
     "iopub.status.busy": "2023-07-22T16:13:29.836896Z",
     "iopub.status.idle": "2023-07-22T16:13:30.425012Z",
     "shell.execute_reply": "2023-07-22T16:13:30.424138Z",
     "shell.execute_reply.started": "2023-07-22T16:13:29.837273Z"
    },
    "tags": []
   },
   "outputs": [
    {
     "name": "stderr",
     "output_type": "stream",
     "text": [
      "2023-07-22 12:13:30.028451: E tensorflow/compiler/xla/stream_executor/cuda/cuda_driver.cc:266] failed call to cuInit: CUDA_ERROR_NO_DEVICE: no CUDA-capable device is detected\n"
     ]
    },
    {
     "name": "stdout",
     "output_type": "stream",
     "text": [
      "Model: \"sequential\"\n",
      "_________________________________________________________________\n",
      " Layer (type)                Output Shape              Param #   \n",
      "=================================================================\n",
      " reshape (Reshape)           (None, 80, 3)             0         \n",
      "                                                                 \n",
      " conv1d (Conv1D)             (None, 78, 32)            320       \n",
      "                                                                 \n",
      " batch_normalization (BatchN  (None, 78, 32)           128       \n",
      " ormalization)                                                   \n",
      "                                                                 \n",
      " conv1d_1 (Conv1D)           (None, 76, 32)            3104      \n",
      "                                                                 \n",
      " batch_normalization_1 (Batc  (None, 76, 32)           128       \n",
      " hNormalization)                                                 \n",
      "                                                                 \n",
      " max_pooling1d (MaxPooling1D  (None, 38, 32)           0         \n",
      " )                                                               \n",
      "                                                                 \n",
      " conv1d_2 (Conv1D)           (None, 36, 64)            6208      \n",
      "                                                                 \n",
      " batch_normalization_2 (Batc  (None, 36, 64)           256       \n",
      " hNormalization)                                                 \n",
      "                                                                 \n",
      " conv1d_3 (Conv1D)           (None, 34, 64)            12352     \n",
      "                                                                 \n",
      " batch_normalization_3 (Batc  (None, 34, 64)           256       \n",
      " hNormalization)                                                 \n",
      "                                                                 \n",
      " max_pooling1d_1 (MaxPooling  (None, 17, 64)           0         \n",
      " 1D)                                                             \n",
      "                                                                 \n",
      " conv1d_4 (Conv1D)           (None, 15, 128)           24704     \n",
      "                                                                 \n",
      " batch_normalization_4 (Batc  (None, 15, 128)          512       \n",
      " hNormalization)                                                 \n",
      "                                                                 \n",
      " conv1d_5 (Conv1D)           (None, 13, 128)           49280     \n",
      "                                                                 \n",
      " batch_normalization_5 (Batc  (None, 13, 128)          512       \n",
      " hNormalization)                                                 \n",
      "                                                                 \n",
      " max_pooling1d_2 (MaxPooling  (None, 6, 128)           0         \n",
      " 1D)                                                             \n",
      "                                                                 \n",
      " conv1d_6 (Conv1D)           (None, 4, 256)            98560     \n",
      "                                                                 \n",
      " batch_normalization_6 (Batc  (None, 4, 256)           1024      \n",
      " hNormalization)                                                 \n",
      "                                                                 \n",
      " conv1d_7 (Conv1D)           (None, 2, 256)            196864    \n",
      "                                                                 \n",
      " batch_normalization_7 (Batc  (None, 2, 256)           1024      \n",
      " hNormalization)                                                 \n",
      "                                                                 \n",
      " max_pooling1d_3 (MaxPooling  (None, 1, 256)           0         \n",
      " 1D)                                                             \n",
      "                                                                 \n",
      " flatten (Flatten)           (None, 256)               0         \n",
      "                                                                 \n",
      " dense (Dense)               (None, 24)                6168      \n",
      "                                                                 \n",
      " dense_1 (Dense)             (None, 24)                600       \n",
      "                                                                 \n",
      " dense_2 (Dense)             (None, 24)                600       \n",
      "                                                                 \n",
      " dense_3 (Dense)             (None, 7)                 175       \n",
      "                                                                 \n",
      "=================================================================\n",
      "Total params: 402,775\n",
      "Trainable params: 400,855\n",
      "Non-trainable params: 1,920\n",
      "_________________________________________________________________\n",
      "None\n"
     ]
    }
   ],
   "source": [
    "'''Model architecture'''\n",
    "conv_model = Sequential()\n",
    "conv_model.add(Reshape((TIME_PERIODS, 3), input_shape=(input_shape,)))   #reshape data from 240 to 80x3 \n",
    "conv_model.add(Conv1D(filters=32,\n",
    "                           kernel_size = 3,\n",
    "                           activation='relu'))\n",
    "conv_model.add(BatchNormalization())\n",
    "conv_model.add(Conv1D(filters=32,\n",
    "                           kernel_size = 3,\n",
    "                           activation='relu'))\n",
    "conv_model.add(BatchNormalization())\n",
    "conv_model.add(MaxPooling1D(pool_size = 2))\n",
    "conv_model.add(Conv1D(filters=64,\n",
    "                           kernel_size = 3,\n",
    "                           activation='relu'))\n",
    "conv_model.add(BatchNormalization())\n",
    "conv_model.add(Conv1D(filters=64,\n",
    "                           kernel_size = 3,\n",
    "                           activation='relu'))\n",
    "conv_model.add(BatchNormalization())\n",
    "conv_model.add(MaxPooling1D(pool_size = 2))\n",
    "conv_model.add(Conv1D(filters=128,\n",
    "                           kernel_size = 3,\n",
    "                           activation='relu'))\n",
    "conv_model.add(BatchNormalization())\n",
    "conv_model.add(Conv1D(filters=128,\n",
    "                           kernel_size = 3,\n",
    "                           activation='relu'))\n",
    "conv_model.add(BatchNormalization())\n",
    "conv_model.add(MaxPooling1D(pool_size = 2))\n",
    "conv_model.add(Conv1D(filters=256,\n",
    "                           kernel_size = 3,\n",
    "                           activation='relu'))\n",
    "conv_model.add(BatchNormalization())\n",
    "conv_model.add(Conv1D(filters=256,\n",
    "                           kernel_size = 3,\n",
    "                           activation='relu'))\n",
    "conv_model.add(BatchNormalization())\n",
    "conv_model.add(MaxPooling1D(pool_size = 2))\n",
    "conv_model.add(Flatten())\n",
    "conv_model.add(Dense(24, activation='relu'))\n",
    "conv_model.add(Dense(24, activation='relu'))\n",
    "conv_model.add(Dense(24, activation='relu'))\n",
    "conv_model.add(Dense(num_classes, activation='softmax'))                    # The softmax activation function is commonly used in the output layer of a classification neural network. It converts the output of the previous layer to a probability distribution over the classes. The output values from the softmax function sum to 1, and each value represents the probability that the input belongs to a specific class.\n",
    "print(conv_model.summary())"
   ]
  },
  {
   "cell_type": "code",
   "execution_count": 17,
   "id": "f33a06f8-c286-488f-9a4a-0c8f7075fe63",
   "metadata": {
    "execution": {
     "iopub.execute_input": "2023-07-22T16:17:23.836607Z",
     "iopub.status.busy": "2023-07-22T16:17:23.836166Z",
     "iopub.status.idle": "2023-07-22T16:19:09.537580Z",
     "shell.execute_reply": "2023-07-22T16:19:09.536832Z",
     "shell.execute_reply.started": "2023-07-22T16:17:23.836577Z"
    },
    "tags": []
   },
   "outputs": [
    {
     "name": "stdout",
     "output_type": "stream",
     "text": [
      "Epoch 1/50\n",
      "47/47 [==============================] - 5s 56ms/step - loss: 0.6954 - accuracy: 0.7636 - val_loss: 2.2785 - val_accuracy: 0.0993\n",
      "Epoch 2/50\n",
      "47/47 [==============================] - 2s 44ms/step - loss: 0.2709 - accuracy: 0.9046 - val_loss: 2.7601 - val_accuracy: 0.1293\n",
      "Epoch 3/50\n",
      "47/47 [==============================] - 2s 43ms/step - loss: 0.2071 - accuracy: 0.9337 - val_loss: 2.6498 - val_accuracy: 0.1332\n",
      "Epoch 4/50\n",
      "47/47 [==============================] - 2s 43ms/step - loss: 0.1690 - accuracy: 0.9439 - val_loss: 3.6621 - val_accuracy: 0.1295\n",
      "Epoch 5/50\n",
      "47/47 [==============================] - 2s 43ms/step - loss: 0.1102 - accuracy: 0.9644 - val_loss: 4.2024 - val_accuracy: 0.0915\n",
      "Epoch 6/50\n",
      "47/47 [==============================] - 2s 44ms/step - loss: 0.1368 - accuracy: 0.9538 - val_loss: 4.6933 - val_accuracy: 0.1866\n",
      "Epoch 7/50\n",
      "47/47 [==============================] - 2s 44ms/step - loss: 0.1321 - accuracy: 0.9549 - val_loss: 4.0958 - val_accuracy: 0.2342\n",
      "Epoch 8/50\n",
      "47/47 [==============================] - 2s 43ms/step - loss: 0.0940 - accuracy: 0.9694 - val_loss: 3.4185 - val_accuracy: 0.3819\n",
      "Epoch 9/50\n",
      "47/47 [==============================] - 2s 46ms/step - loss: 0.1477 - accuracy: 0.9517 - val_loss: 2.1430 - val_accuracy: 0.4551\n",
      "Epoch 10/50\n",
      "47/47 [==============================] - 2s 46ms/step - loss: 0.1015 - accuracy: 0.9658 - val_loss: 1.2088 - val_accuracy: 0.6504\n",
      "Epoch 11/50\n",
      "47/47 [==============================] - 2s 46ms/step - loss: 0.0469 - accuracy: 0.9846 - val_loss: 0.6020 - val_accuracy: 0.8014\n",
      "Epoch 12/50\n",
      "47/47 [==============================] - 2s 44ms/step - loss: 0.0271 - accuracy: 0.9923 - val_loss: 0.8666 - val_accuracy: 0.7417\n",
      "Epoch 13/50\n",
      "47/47 [==============================] - 2s 46ms/step - loss: 0.0709 - accuracy: 0.9771 - val_loss: 0.1982 - val_accuracy: 0.9368\n",
      "Epoch 14/50\n",
      "47/47 [==============================] - 2s 46ms/step - loss: 0.0488 - accuracy: 0.9835 - val_loss: 0.1881 - val_accuracy: 0.9448\n",
      "Epoch 15/50\n",
      "47/47 [==============================] - 2s 43ms/step - loss: 0.0408 - accuracy: 0.9863 - val_loss: 0.2681 - val_accuracy: 0.9296\n",
      "Epoch 16/50\n",
      "47/47 [==============================] - 2s 43ms/step - loss: 0.1152 - accuracy: 0.9620 - val_loss: 0.2115 - val_accuracy: 0.9368\n",
      "Epoch 17/50\n",
      "47/47 [==============================] - 2s 46ms/step - loss: 0.0780 - accuracy: 0.9742 - val_loss: 0.1569 - val_accuracy: 0.9524\n",
      "Epoch 18/50\n",
      "47/47 [==============================] - 2s 46ms/step - loss: 0.0268 - accuracy: 0.9918 - val_loss: 0.1422 - val_accuracy: 0.9600\n",
      "Epoch 19/50\n",
      "47/47 [==============================] - 2s 43ms/step - loss: 0.0144 - accuracy: 0.9957 - val_loss: 0.2634 - val_accuracy: 0.9287\n",
      "Epoch 20/50\n",
      "47/47 [==============================] - 2s 43ms/step - loss: 0.0169 - accuracy: 0.9955 - val_loss: 0.1741 - val_accuracy: 0.9546\n",
      "Epoch 21/50\n",
      "47/47 [==============================] - 2s 44ms/step - loss: 0.0076 - accuracy: 0.9980 - val_loss: 0.2094 - val_accuracy: 0.9413\n",
      "Epoch 22/50\n",
      "47/47 [==============================] - 2s 43ms/step - loss: 0.0739 - accuracy: 0.9777 - val_loss: 0.3700 - val_accuracy: 0.8901\n",
      "Epoch 23/50\n",
      "47/47 [==============================] - 2s 44ms/step - loss: 0.1213 - accuracy: 0.9619 - val_loss: 0.2942 - val_accuracy: 0.9298\n",
      "Epoch 24/50\n",
      "47/47 [==============================] - 2s 43ms/step - loss: 0.1226 - accuracy: 0.9579 - val_loss: 0.2345 - val_accuracy: 0.9344\n",
      "Epoch 25/50\n",
      "47/47 [==============================] - 2s 44ms/step - loss: 0.0558 - accuracy: 0.9809 - val_loss: 0.1569 - val_accuracy: 0.9546\n",
      "Epoch 26/50\n",
      "47/47 [==============================] - 2s 43ms/step - loss: 0.0343 - accuracy: 0.9897 - val_loss: 0.1798 - val_accuracy: 0.9524\n",
      "Epoch 27/50\n",
      "47/47 [==============================] - 2s 43ms/step - loss: 0.0134 - accuracy: 0.9965 - val_loss: 0.1743 - val_accuracy: 0.9576\n",
      "Epoch 28/50\n",
      "47/47 [==============================] - 2s 43ms/step - loss: 0.0080 - accuracy: 0.9984 - val_loss: 0.1831 - val_accuracy: 0.9505\n",
      "Epoch 29/50\n",
      "47/47 [==============================] - 2s 43ms/step - loss: 0.0637 - accuracy: 0.9785 - val_loss: 0.1787 - val_accuracy: 0.9509\n",
      "Epoch 30/50\n",
      "47/47 [==============================] - 2s 43ms/step - loss: 0.0480 - accuracy: 0.9846 - val_loss: 0.1681 - val_accuracy: 0.9568\n",
      "Epoch 31/50\n",
      "47/47 [==============================] - 2s 43ms/step - loss: 0.0255 - accuracy: 0.9920 - val_loss: 0.4616 - val_accuracy: 0.9177\n",
      "Epoch 32/50\n",
      "47/47 [==============================] - 2s 43ms/step - loss: 0.1115 - accuracy: 0.9695 - val_loss: 0.1971 - val_accuracy: 0.9444\n",
      "Epoch 33/50\n",
      "47/47 [==============================] - 2s 44ms/step - loss: 0.0841 - accuracy: 0.9705 - val_loss: 0.1627 - val_accuracy: 0.9511\n",
      "Epoch 34/50\n",
      "47/47 [==============================] - 2s 44ms/step - loss: 0.0370 - accuracy: 0.9880 - val_loss: 0.1562 - val_accuracy: 0.9574\n",
      "Epoch 35/50\n",
      "47/47 [==============================] - 2s 43ms/step - loss: 0.0205 - accuracy: 0.9945 - val_loss: 0.1461 - val_accuracy: 0.9596\n",
      "Epoch 36/50\n",
      "47/47 [==============================] - 2s 44ms/step - loss: 0.0113 - accuracy: 0.9965 - val_loss: 0.2003 - val_accuracy: 0.9522\n",
      "Epoch 37/50\n",
      "47/47 [==============================] - 2s 44ms/step - loss: 0.0883 - accuracy: 0.9743 - val_loss: 0.2466 - val_accuracy: 0.9376\n",
      "Epoch 38/50\n",
      "47/47 [==============================] - 2s 44ms/step - loss: 0.0321 - accuracy: 0.9891 - val_loss: 0.1815 - val_accuracy: 0.9516\n",
      "Epoch 39/50\n",
      "47/47 [==============================] - 2s 44ms/step - loss: 0.0125 - accuracy: 0.9966 - val_loss: 0.1731 - val_accuracy: 0.9492\n",
      "Epoch 40/50\n",
      "47/47 [==============================] - 2s 44ms/step - loss: 0.0974 - accuracy: 0.9707 - val_loss: 0.2174 - val_accuracy: 0.9292\n",
      "Epoch 41/50\n",
      "47/47 [==============================] - 2s 44ms/step - loss: 0.0551 - accuracy: 0.9798 - val_loss: 0.1962 - val_accuracy: 0.9418\n",
      "Epoch 42/50\n",
      "47/47 [==============================] - 2s 44ms/step - loss: 0.0654 - accuracy: 0.9793 - val_loss: 0.1633 - val_accuracy: 0.9513\n",
      "Epoch 43/50\n",
      "47/47 [==============================] - 2s 44ms/step - loss: 0.0565 - accuracy: 0.9822 - val_loss: 0.1459 - val_accuracy: 0.9563\n",
      "Epoch 44/50\n",
      "47/47 [==============================] - 2s 43ms/step - loss: 0.0189 - accuracy: 0.9949 - val_loss: 0.1536 - val_accuracy: 0.9561\n",
      "Epoch 45/50\n",
      "47/47 [==============================] - 2s 44ms/step - loss: 0.0421 - accuracy: 0.9854 - val_loss: 0.1881 - val_accuracy: 0.9485\n",
      "Epoch 46/50\n",
      "47/47 [==============================] - 2s 43ms/step - loss: 0.0687 - accuracy: 0.9772 - val_loss: 0.1814 - val_accuracy: 0.9520\n",
      "Epoch 47/50\n",
      "47/47 [==============================] - 2s 43ms/step - loss: 0.0195 - accuracy: 0.9944 - val_loss: 0.1660 - val_accuracy: 0.9589\n",
      "Epoch 48/50\n",
      "47/47 [==============================] - 2s 44ms/step - loss: 0.0146 - accuracy: 0.9965 - val_loss: 0.2278 - val_accuracy: 0.9463\n",
      "Epoch 49/50\n",
      "47/47 [==============================] - 2s 44ms/step - loss: 0.0644 - accuracy: 0.9806 - val_loss: 0.1874 - val_accuracy: 0.9496\n",
      "Epoch 50/50\n",
      "47/47 [==============================] - 2s 43ms/step - loss: 0.0172 - accuracy: 0.9951 - val_loss: 0.1518 - val_accuracy: 0.9609\n"
     ]
    }
   ],
   "source": [
    "''' Caution: need to change name of saved checkpoints everytime '''\n",
    "callbacks_list = [\n",
    "    keras.callbacks.ModelCheckpoint(\n",
    "        filepath='CNN_allact_updated_2.{epoch:02d}-{val_loss:.2f}.h5',  \n",
    "        monitor='val_loss', save_best_only=True),\n",
    "    keras.callbacks.EarlyStopping(monitor='acc', patience=1)\n",
    "]\n",
    "\n",
    "# Hyper-parameters\n",
    "BATCH_SIZE = 400\n",
    "EPOCHS = 50\n",
    "\n",
    "conv_model.compile(loss='categorical_crossentropy', \n",
    "                   optimizer = keras.optimizers.Adam(learning_rate = 0.001), \n",
    "                   metrics=['accuracy'])\n",
    "\n",
    "# Enable validation to use ModelCheckpoint and EarlyStopping callbacks.\n",
    "history = conv_model.fit(x_train,\n",
    "                      y_train_hot,\n",
    "                      batch_size=BATCH_SIZE,\n",
    "                      epochs=EPOCHS,\n",
    "                      callbacks=callbacks_list,\n",
    "                      validation_split=0.2,\n",
    "                      verbose=1)"
   ]
  },
  {
   "cell_type": "code",
   "execution_count": 18,
   "id": "2bd0a10c-3dc0-4038-a7fd-be0c097d97fc",
   "metadata": {
    "execution": {
     "iopub.execute_input": "2023-07-22T16:19:18.084638Z",
     "iopub.status.busy": "2023-07-22T16:19:18.084224Z",
     "iopub.status.idle": "2023-07-22T16:19:21.650450Z",
     "shell.execute_reply": "2023-07-22T16:19:21.649794Z",
     "shell.execute_reply.started": "2023-07-22T16:19:18.084614Z"
    },
    "tags": []
   },
   "outputs": [
    {
     "data": {
      "image/png": "[encoded data removed]",
      "text/plain": [
       "<Figure size 432x288 with 1 Axes>"
      ]
     },
     "metadata": {},
     "output_type": "display_data"
    },
    {
     "data": {
      "image/png": "[encoded data removed]",
      "text/plain": [
       "<Figure size 432x288 with 1 Axes>"
      ]
     },
     "metadata": {},
     "output_type": "display_data"
    },
    {
     "name": "stdout",
     "output_type": "stream",
     "text": [
      "720/720 [==============================] - 3s 4ms/step\n",
      "              precision    recall  f1-score   support\n",
      "\n",
      "         0.0       0.97      0.97      0.97      2016\n",
      "         1.0       1.00      1.00      1.00      6803\n",
      "         2.0       1.00      1.00      1.00      1100\n",
      "         3.0       1.00      0.99      0.99      1200\n",
      "         4.0       0.99      0.99      0.99       949\n",
      "         5.0       0.97      0.98      0.97      2445\n",
      "         6.0       1.00      1.00      1.00      8501\n",
      "\n",
      "    accuracy                           0.99     23014\n",
      "   macro avg       0.99      0.99      0.99     23014\n",
      "weighted avg       0.99      0.99      0.99     23014\n",
      "\n"
     ]
    }
   ],
   "source": [
    "plt.figure(figsize=(6, 4))\n",
    "plt.plot(history.history['accuracy'], 'r', label='Accuracy of training data')\n",
    "plt.plot(history.history['val_accuracy'], 'b', label='Accuracy of validation data')\n",
    "plt.title('Model Accuracy')\n",
    "plt.ylabel('Accuracy')\n",
    "plt.xlabel('Training Epoch')\n",
    "plt.ylim(0)\n",
    "plt.legend()\n",
    "plt.show()\n",
    "\n",
    "plt.figure(figsize=(6, 4))\n",
    "plt.plot(history.history['loss'], 'r--', label='Loss of training data')\n",
    "plt.plot(history.history['val_loss'], 'b--', label='Loss of validation data')\n",
    "plt.title('Model Loss')\n",
    "plt.ylabel('Loss')\n",
    "plt.xlabel('Training Epoch')\n",
    "plt.ylim(0)\n",
    "plt.legend()\n",
    "plt.show()\n",
    "\n",
    "# Print confusion matrix for training data\n",
    "y_pred_train = conv_model.predict(x_train)\n",
    "# Take the class with the highest probability from the train predictions\n",
    "max_y_pred_train = np.argmax(y_pred_train, axis=1)\n",
    "print(classification_report(y_train, max_y_pred_train))"
   ]
  },
  {
   "cell_type": "code",
   "execution_count": 19,
   "id": "e821d932-895d-4754-b5fd-5fe204170d20",
   "metadata": {
    "execution": {
     "iopub.execute_input": "2023-07-22T16:19:29.205302Z",
     "iopub.status.busy": "2023-07-22T16:19:29.204888Z",
     "iopub.status.idle": "2023-07-22T16:19:30.320602Z",
     "shell.execute_reply": "2023-07-22T16:19:30.319962Z",
     "shell.execute_reply.started": "2023-07-22T16:19:29.205275Z"
    },
    "tags": []
   },
   "outputs": [
    {
     "name": "stdout",
     "output_type": "stream",
     "text": [
      "180/180 [==============================] - 1s 4ms/step\n"
     ]
    },
    {
     "data": {
      "image/png": "[encoded data removed]",
      "text/plain": [
       "<Figure size 432x288 with 2 Axes>"
      ]
     },
     "metadata": {},
     "output_type": "display_data"
    },
    {
     "name": "stdout",
     "output_type": "stream",
     "text": [
      "              precision    recall  f1-score   support\n",
      "\n",
      "           0       0.88      0.84      0.86       496\n",
      "           1       0.98      0.99      0.99      1751\n",
      "           2       1.00      0.99      1.00       267\n",
      "           3       0.99      0.97      0.98       295\n",
      "           4       0.99      0.99      0.99       245\n",
      "           5       0.85      0.86      0.85       612\n",
      "           6       0.97      0.98      0.98      2088\n",
      "\n",
      "    accuracy                           0.96      5754\n",
      "   macro avg       0.95      0.94      0.95      5754\n",
      "weighted avg       0.96      0.96      0.96      5754\n",
      "\n"
     ]
    }
   ],
   "source": [
    "def show_confusion_matrix(validations, predictions):\n",
    "    matrix = metrics.confusion_matrix(validations, predictions)\n",
    "    plt.figure(figsize=(6, 4))\n",
    "    sns.heatmap(matrix,\n",
    "                cmap='coolwarm',\n",
    "                linecolor='white',\n",
    "                linewidths=1,\n",
    "                xticklabels=le.classes_,                \n",
    "                yticklabels=le.classes_,\n",
    "                annot=True,\n",
    "                fmt='d')\n",
    "    plt.title('Confusion Matrix')\n",
    "    plt.ylabel('True Label')\n",
    "    plt.xlabel('Predicted Label')\n",
    "    plt.show()\n",
    "\n",
    "y_pred_test = conv_model.predict(x_test)\n",
    "\n",
    "# Take the class with the highest probability from the test predictions\n",
    "max_y_pred_test = np.argmax(y_pred_test, axis=1)\n",
    "max_y_test = np.argmax(y_test_hot, axis=1)\n",
    "\n",
    "show_confusion_matrix(max_y_test, max_y_pred_test)\n",
    "\n",
    "print(classification_report(max_y_test, max_y_pred_test))"
   ]
  },
  {
   "cell_type": "code",
   "execution_count": null,
   "id": "4c5468d9-9681-495e-b434-3cc194619a27",
   "metadata": {},
   "outputs": [],
   "source": []
  }
 ],
 "metadata": {
  "kernelspec": {
   "display_name": "Python 3.10.x",
   "language": "python",
   "name": "python_3.10.x"
  },
  "language_info": {
   "codemirror_mode": {
    "name": "ipython",
    "version": 3
   },
   "file_extension": ".py",
   "mimetype": "text/x-python",
   "name": "python",
   "nbconvert_exporter": "python",
   "pygments_lexer": "ipython3",
   "version": "3.10.6"
  }
 },
 "nbformat": 4,
 "nbformat_minor": 5
}
