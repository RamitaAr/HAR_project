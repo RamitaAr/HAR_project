{
 "cells": [
  {
   "cell_type": "code",
   "execution_count": 1,
   "id": "91f4c56a-4f88-44dc-8db4-43f30bd54fd6",
   "metadata": {
    "execution": {
     "iopub.execute_input": "2023-11-17T19:21:23.643426Z",
     "iopub.status.busy": "2023-11-17T19:21:23.643096Z",
     "iopub.status.idle": "2023-11-17T19:21:32.972533Z",
     "shell.execute_reply": "2023-11-17T19:21:32.971898Z",
     "shell.execute_reply.started": "2023-11-17T19:21:23.643362Z"
    },
    "tags": []
   },
   "outputs": [
    {
     "name": "stderr",
     "output_type": "stream",
     "text": [
      "/data/miniconda3/envs/python_3.10.x/lib/python3.10/site-packages/scipy/__init__.py:146: UserWarning: A NumPy version >=1.17.3 and <1.25.0 is required for this version of SciPy (detected version 1.26.1\n",
      "  warnings.warn(f\"A NumPy version >={np_minversion} and <{np_maxversion}\"\n",
      "2023-11-17 14:21:26.472107: I tensorflow/core/platform/cpu_feature_guard.cc:182] This TensorFlow binary is optimized to use available CPU instructions in performance-critical operations.\n",
      "To enable the following instructions: AVX2 AVX512F FMA, in other operations, rebuild TensorFlow with the appropriate compiler flags.\n",
      "2023-11-17 14:21:28.500244: W tensorflow/compiler/tf2tensorrt/utils/py_utils.cc:38] TF-TRT Warning: Could not find TensorRT\n"
     ]
    }
   ],
   "source": [
    "from __future__ import print_function\n",
    "from matplotlib import pyplot as plt\n",
    "%matplotlib inline\n",
    "import numpy as np\n",
    "import pandas as pd\n",
    "import seaborn as sns\n",
    "import coremltools\n",
    "from scipy import stats\n",
    "from IPython.display import display, HTML\n",
    "\n",
    "from sklearn import metrics\n",
    "from sklearn.metrics import classification_report\n",
    "from sklearn import preprocessing\n",
    "\n",
    "import keras\n",
    "from keras.models import Sequential\n",
    "from keras import regularizers\n",
    "from keras.layers import Dense, Dropout, Flatten, Reshape, Conv1D, MaxPooling1D, BatchNormalization, AveragePooling1D\n",
    "from keras.layers import Conv2D, MaxPooling2D\n",
    "from keras.utils import np_utils\n",
    "from keras import layers\n",
    "\n",
    "from scipy.interpolate import CubicSpline      # for warping\n",
    "from transforms3d.axangles import axangle2mat  # for rotation"
   ]
  },
  {
   "cell_type": "code",
   "execution_count": 2,
   "id": "e99532ec-b3cf-4e8c-8e9a-40959a19c916",
   "metadata": {
    "execution": {
     "iopub.execute_input": "2023-11-17T19:22:06.215974Z",
     "iopub.status.busy": "2023-11-17T19:22:06.215599Z",
     "iopub.status.idle": "2023-11-17T19:22:06.220911Z",
     "shell.execute_reply": "2023-11-17T19:22:06.220364Z",
     "shell.execute_reply.started": "2023-11-17T19:22:06.215951Z"
    },
    "tags": []
   },
   "outputs": [
    {
     "name": "stdout",
     "output_type": "stream",
     "text": [
      "keras version  2.12.0\n"
     ]
    }
   ],
   "source": [
    "# Set some standard parameters upfront\n",
    "pd.options.display.float_format = '{:.1f}'.format # result data will be float with 1 decimal point\n",
    "sns.set() # Default seaborn look and feel\n",
    "plt.style.use('ggplot') # set plotting style\n",
    "print('keras version ', keras.__version__)\n",
    "\n",
    "# The number of steps within one time segment\n",
    "TIME_PERIODS = 80\n",
    "# The steps to take from one segment to the next; if this value is equal to\n",
    "# TIME_PERIODS, then there is no overlap between the segments\n",
    "STEP_DISTANCE = 40"
   ]
  },
  {
   "cell_type": "code",
   "execution_count": 3,
   "id": "5c49390b-f29e-4439-b4da-35bb16f5fec0",
   "metadata": {
    "execution": {
     "iopub.execute_input": "2023-11-17T19:22:07.139377Z",
     "iopub.status.busy": "2023-11-17T19:22:07.138989Z",
     "iopub.status.idle": "2023-11-17T19:22:07.142771Z",
     "shell.execute_reply": "2023-11-17T19:22:07.142244Z",
     "shell.execute_reply.started": "2023-11-17T19:22:07.139352Z"
    },
    "tags": []
   },
   "outputs": [],
   "source": [
    "'''Use this set of labels to train all 7 activities'''\n",
    "# Same labels will be reused throughout the program\n",
    "LABELS = ['Downstairs',\n",
    "          'Jogging',\n",
    "          'Sitting',\n",
    "          'Standing',\n",
    "          'Upstairs',\n",
    "          'Walking',\n",
    "          'Laying']"
   ]
  },
  {
   "cell_type": "code",
   "execution_count": 4,
   "id": "83df679c-d15d-46ec-8419-e144f119ef3c",
   "metadata": {
    "execution": {
     "iopub.execute_input": "2023-11-17T19:22:09.191574Z",
     "iopub.status.busy": "2023-11-17T19:22:09.191182Z",
     "iopub.status.idle": "2023-11-17T19:22:09.721095Z",
     "shell.execute_reply": "2023-11-17T19:22:09.720387Z",
     "shell.execute_reply.started": "2023-11-17T19:22:09.191551Z"
    },
    "tags": []
   },
   "outputs": [
    {
     "name": "stdout",
     "output_type": "stream",
     "text": [
      "(1152954, 5)\n",
      "Number of columns in the dataframe: 5\n",
      "Number of rows in the dataframe: 1152954\n",
      "\n"
     ]
    },
    {
     "data": {
      "text/html": [
       "<div>\n",
       "<style scoped>\n",
       "    .dataframe tbody tr th:only-of-type {\n",
       "        vertical-align: middle;\n",
       "    }\n",
       "\n",
       "    .dataframe tbody tr th {\n",
       "        vertical-align: top;\n",
       "    }\n",
       "\n",
       "    .dataframe thead th {\n",
       "        text-align: right;\n",
       "    }\n",
       "</style>\n",
       "<table border=\"1\" class=\"dataframe\">\n",
       "  <thead>\n",
       "    <tr style=\"text-align: right;\">\n",
       "      <th></th>\n",
       "      <th>user-id</th>\n",
       "      <th>x-axis</th>\n",
       "      <th>y-axis</th>\n",
       "      <th>z-axis</th>\n",
       "      <th>activity</th>\n",
       "    </tr>\n",
       "  </thead>\n",
       "  <tbody>\n",
       "    <tr>\n",
       "      <th>1152934</th>\n",
       "      <td>37</td>\n",
       "      <td>0.1</td>\n",
       "      <td>0.5</td>\n",
       "      <td>0.6</td>\n",
       "      <td>Laying</td>\n",
       "    </tr>\n",
       "    <tr>\n",
       "      <th>1152935</th>\n",
       "      <td>37</td>\n",
       "      <td>0.1</td>\n",
       "      <td>0.5</td>\n",
       "      <td>0.5</td>\n",
       "      <td>Laying</td>\n",
       "    </tr>\n",
       "    <tr>\n",
       "      <th>1152936</th>\n",
       "      <td>37</td>\n",
       "      <td>0.1</td>\n",
       "      <td>0.5</td>\n",
       "      <td>0.5</td>\n",
       "      <td>Laying</td>\n",
       "    </tr>\n",
       "    <tr>\n",
       "      <th>1152937</th>\n",
       "      <td>37</td>\n",
       "      <td>0.1</td>\n",
       "      <td>0.5</td>\n",
       "      <td>0.6</td>\n",
       "      <td>Laying</td>\n",
       "    </tr>\n",
       "    <tr>\n",
       "      <th>1152938</th>\n",
       "      <td>37</td>\n",
       "      <td>0.1</td>\n",
       "      <td>0.5</td>\n",
       "      <td>0.5</td>\n",
       "      <td>Laying</td>\n",
       "    </tr>\n",
       "    <tr>\n",
       "      <th>1152939</th>\n",
       "      <td>37</td>\n",
       "      <td>0.1</td>\n",
       "      <td>0.5</td>\n",
       "      <td>0.5</td>\n",
       "      <td>Laying</td>\n",
       "    </tr>\n",
       "    <tr>\n",
       "      <th>1152940</th>\n",
       "      <td>37</td>\n",
       "      <td>0.1</td>\n",
       "      <td>0.5</td>\n",
       "      <td>0.5</td>\n",
       "      <td>Laying</td>\n",
       "    </tr>\n",
       "    <tr>\n",
       "      <th>1152941</th>\n",
       "      <td>37</td>\n",
       "      <td>0.1</td>\n",
       "      <td>0.5</td>\n",
       "      <td>0.6</td>\n",
       "      <td>Laying</td>\n",
       "    </tr>\n",
       "    <tr>\n",
       "      <th>1152942</th>\n",
       "      <td>37</td>\n",
       "      <td>0.1</td>\n",
       "      <td>0.5</td>\n",
       "      <td>0.5</td>\n",
       "      <td>Laying</td>\n",
       "    </tr>\n",
       "    <tr>\n",
       "      <th>1152943</th>\n",
       "      <td>37</td>\n",
       "      <td>0.1</td>\n",
       "      <td>0.5</td>\n",
       "      <td>0.5</td>\n",
       "      <td>Laying</td>\n",
       "    </tr>\n",
       "    <tr>\n",
       "      <th>1152944</th>\n",
       "      <td>37</td>\n",
       "      <td>0.1</td>\n",
       "      <td>0.5</td>\n",
       "      <td>0.6</td>\n",
       "      <td>Laying</td>\n",
       "    </tr>\n",
       "    <tr>\n",
       "      <th>1152945</th>\n",
       "      <td>37</td>\n",
       "      <td>0.1</td>\n",
       "      <td>0.5</td>\n",
       "      <td>0.5</td>\n",
       "      <td>Laying</td>\n",
       "    </tr>\n",
       "    <tr>\n",
       "      <th>1152946</th>\n",
       "      <td>37</td>\n",
       "      <td>0.1</td>\n",
       "      <td>0.5</td>\n",
       "      <td>0.5</td>\n",
       "      <td>Laying</td>\n",
       "    </tr>\n",
       "    <tr>\n",
       "      <th>1152947</th>\n",
       "      <td>37</td>\n",
       "      <td>0.1</td>\n",
       "      <td>0.5</td>\n",
       "      <td>0.5</td>\n",
       "      <td>Laying</td>\n",
       "    </tr>\n",
       "    <tr>\n",
       "      <th>1152948</th>\n",
       "      <td>37</td>\n",
       "      <td>0.1</td>\n",
       "      <td>0.5</td>\n",
       "      <td>0.5</td>\n",
       "      <td>Laying</td>\n",
       "    </tr>\n",
       "    <tr>\n",
       "      <th>1152949</th>\n",
       "      <td>37</td>\n",
       "      <td>0.1</td>\n",
       "      <td>0.5</td>\n",
       "      <td>0.5</td>\n",
       "      <td>Laying</td>\n",
       "    </tr>\n",
       "    <tr>\n",
       "      <th>1152950</th>\n",
       "      <td>37</td>\n",
       "      <td>0.1</td>\n",
       "      <td>0.5</td>\n",
       "      <td>0.6</td>\n",
       "      <td>Laying</td>\n",
       "    </tr>\n",
       "    <tr>\n",
       "      <th>1152951</th>\n",
       "      <td>37</td>\n",
       "      <td>0.1</td>\n",
       "      <td>0.5</td>\n",
       "      <td>0.5</td>\n",
       "      <td>Laying</td>\n",
       "    </tr>\n",
       "    <tr>\n",
       "      <th>1152952</th>\n",
       "      <td>37</td>\n",
       "      <td>0.1</td>\n",
       "      <td>0.5</td>\n",
       "      <td>0.5</td>\n",
       "      <td>Laying</td>\n",
       "    </tr>\n",
       "    <tr>\n",
       "      <th>1152953</th>\n",
       "      <td>37</td>\n",
       "      <td>0.1</td>\n",
       "      <td>0.5</td>\n",
       "      <td>0.5</td>\n",
       "      <td>Laying</td>\n",
       "    </tr>\n",
       "  </tbody>\n",
       "</table>\n",
       "</div>"
      ],
      "text/plain": [
       "         user-id  x-axis  y-axis  z-axis activity\n",
       "1152934       37     0.1     0.5     0.6   Laying\n",
       "1152935       37     0.1     0.5     0.5   Laying\n",
       "1152936       37     0.1     0.5     0.5   Laying\n",
       "1152937       37     0.1     0.5     0.6   Laying\n",
       "1152938       37     0.1     0.5     0.5   Laying\n",
       "1152939       37     0.1     0.5     0.5   Laying\n",
       "1152940       37     0.1     0.5     0.5   Laying\n",
       "1152941       37     0.1     0.5     0.6   Laying\n",
       "1152942       37     0.1     0.5     0.5   Laying\n",
       "1152943       37     0.1     0.5     0.5   Laying\n",
       "1152944       37     0.1     0.5     0.6   Laying\n",
       "1152945       37     0.1     0.5     0.5   Laying\n",
       "1152946       37     0.1     0.5     0.5   Laying\n",
       "1152947       37     0.1     0.5     0.5   Laying\n",
       "1152948       37     0.1     0.5     0.5   Laying\n",
       "1152949       37     0.1     0.5     0.5   Laying\n",
       "1152950       37     0.1     0.5     0.6   Laying\n",
       "1152951       37     0.1     0.5     0.5   Laying\n",
       "1152952       37     0.1     0.5     0.5   Laying\n",
       "1152953       37     0.1     0.5     0.5   Laying"
      ]
     },
     "execution_count": 4,
     "metadata": {},
     "output_type": "execute_result"
    }
   ],
   "source": [
    "# create functions to read data and show information\n",
    "import pandas as pd\n",
    "def read_data(file_path):\n",
    "\n",
    "    column_names = ['user-id',\n",
    "                    'x-axis',\n",
    "                    'y-axis',\n",
    "                    'z-axis',\n",
    "                    'activity']\n",
    "    # import data set: https://pandas.pydata.org/pandas-docs/stable/reference/api/pandas.read_csv.html\n",
    "    df = pd.read_csv(file_path,\n",
    "                     delimiter= ',',\n",
    "                     header= None,                 # column names are passed explicitly so header = none\n",
    "                     names=column_names,          #List of column names to use\n",
    "                     lineterminator = '\\n')        #lineterminator: break file into lines\n",
    "                       \n",
    "    # This is very important otherwise the model will not fit and loss\n",
    "    # will show up as NAN\n",
    "    df.dropna(axis=0,                             # determine rows or column to removed (0 = rows, 1 = column)\n",
    "              how='any',                          # Determine if row or column is removed from DataFrame, when we have at least one NA or all NA. (Any = if one NA value present, drop that row or column)\n",
    "              inplace=True)                       # Whether to modify the DataFrame rather than creating a new one (true = modified)\n",
    "\n",
    "    return df\n",
    "\n",
    "def show_basic_dataframe_info(dataframe):\n",
    "    print(dataframe.shape)\n",
    "    \n",
    "    # Shape and how many rows and columns\n",
    "    print('Number of columns in the dataframe: %i' % (dataframe.shape[1]))     # .shape[1] = output is no. of column. \n",
    "    print('Number of rows in the dataframe: %i\\n' % (dataframe.shape[0]))      # .shape[0] = output is no. of rows\n",
    "\n",
    "\n",
    "# Load data set containing all the data from csv\n",
    "df = read_data('../Data/Raw_WISDM_UCI(laying)_updated.txt') \n",
    "\n",
    "# show data\n",
    "show_basic_dataframe_info(df)\n",
    "df.tail(20)"
   ]
  },
  {
   "cell_type": "code",
   "execution_count": 5,
   "id": "267a0686-fdc9-4376-90d4-f099d9085805",
   "metadata": {
    "execution": {
     "iopub.execute_input": "2023-11-17T19:22:17.813281Z",
     "iopub.status.busy": "2023-11-17T19:22:17.812906Z",
     "iopub.status.idle": "2023-11-17T19:22:18.142951Z",
     "shell.execute_reply": "2023-11-17T19:22:18.142424Z",
     "shell.execute_reply.started": "2023-11-17T19:22:17.813258Z"
    },
    "tags": []
   },
   "outputs": [
    {
     "name": "stdout",
     "output_type": "stream",
     "text": [
      "activity\n",
      "Walking       424398\n",
      "Jogging       342179\n",
      "Upstairs      122869\n",
      "Downstairs    100427\n",
      "Sitting        59939\n",
      "Laying         54747\n",
      "Standing       48395\n",
      "Name: count, dtype: int64\n"
     ]
    },
    {
     "data": {
      "image/png": "[encoded data removed]",
      "text/plain": [
       "<Figure size 432x288 with 1 Axes>"
      ]
     },
     "metadata": {},
     "output_type": "display_data"
    }
   ],
   "source": [
    "#Show how many training examples exist for each of the six activities\n",
    "# Show how many training examples exist for each of the six activities\n",
    "bar_colors = ['tab:red', 'tab:blue', 'tab:purple', 'tab:gray', 'tab:pink', 'tab:green'] # change bar color\n",
    "value_counts = df['activity'].value_counts()\n",
    "print(value_counts)\n",
    "value_counts.plot(kind='bar',\n",
    "                  title='Activity Counts by Types',\n",
    "                  color = bar_colors)\n",
    "\n",
    "plt.show()"
   ]
  },
  {
   "cell_type": "code",
   "execution_count": 6,
   "id": "41cdc0cd-923e-4b02-acd4-19bf18e47267",
   "metadata": {
    "execution": {
     "iopub.execute_input": "2023-11-17T19:22:20.128077Z",
     "iopub.status.busy": "2023-11-17T19:22:20.127700Z",
     "iopub.status.idle": "2023-11-17T19:22:20.307636Z",
     "shell.execute_reply": "2023-11-17T19:22:20.307023Z",
     "shell.execute_reply.started": "2023-11-17T19:22:20.128046Z"
    },
    "tags": []
   },
   "outputs": [],
   "source": [
    "# add 1 more column name \"activityencoded\" to convert each activity into nummerical labels since deep neural network cannot work with non-numerical labels.\n",
    "# Define column name of the label vector\n",
    "LABEL = 'ActivityEncoded'\n",
    "\n",
    "# Transform the labels from String to Integer via LabelEncoder \n",
    "# class from scikit-learn used for converting categorizable variable into integer for algorithm that require numerical input data\n",
    "le = preprocessing.LabelEncoder()          \n",
    "\n",
    "# Add a new column to the existing DataFrame with the encoded values\n",
    "df[LABEL] = le.fit_transform(df['activity'].values.ravel())"
   ]
  },
  {
   "cell_type": "code",
   "execution_count": 44,
   "id": "20dde7d9-f52d-4ba7-8e2c-ad2f45365f27",
   "metadata": {
    "execution": {
     "iopub.execute_input": "2023-07-17T17:18:18.443978Z",
     "iopub.status.busy": "2023-07-17T17:18:18.443540Z",
     "iopub.status.idle": "2023-07-17T17:18:18.513115Z",
     "shell.execute_reply": "2023-07-17T17:18:18.512457Z",
     "shell.execute_reply.started": "2023-07-17T17:18:18.443954Z"
    },
    "tags": []
   },
   "outputs": [],
   "source": [
    "'''Already did max scale in raw data '''\n",
    "# def max_scale_round(df):\n",
    "#     pd.options.mode.chained_assignment = None  # allow to modify the DataFrame or Series using chained indexing without generating a warning. default='warn', none will ignore the warning\n",
    "#     df['x-axis'] = df['x-axis'] / df['x-axis'].max()\n",
    "#     df['y-axis'] = df['y-axis'] / df['y-axis'].max()\n",
    "#     df['z-axis'] = df['z-axis'] / df['z-axis'].max()\n",
    "#     # Round numbers\n",
    "#     df = df.round({'x-axis': 4, 'y-axis': 4, 'z-axis': 4})      #apply rounding to 4 decimal places for the three features (x,y,z) https://pandas.pydata.org/docs/reference/api/pandas.DataFrame.round.html \n",
    "#     return df\n",
    "\n",
    "# round_df = max_scale_round(df)"
   ]
  },
  {
   "cell_type": "code",
   "execution_count": 7,
   "id": "ab1a00d0-a6bc-478f-b20c-e2c0f0326478",
   "metadata": {
    "execution": {
     "iopub.execute_input": "2023-11-17T19:22:25.127577Z",
     "iopub.status.busy": "2023-11-17T19:22:25.127189Z",
     "iopub.status.idle": "2023-11-17T19:22:30.673260Z",
     "shell.execute_reply": "2023-11-17T19:22:30.672559Z",
     "shell.execute_reply.started": "2023-11-17T19:22:25.127553Z"
    },
    "tags": []
   },
   "outputs": [
    {
     "name": "stdout",
     "output_type": "stream",
     "text": [
      "[[[-0.0348  0.2512  0.2458]\n",
      "  [-0.0307 -0.0594  0.069 ]\n",
      "  [-0.0307 -0.0253 -0.4226]\n",
      "  ...\n",
      "  [ 0.3285  0.0722 -0.307 ]\n",
      "  [-0.3278 -0.0139  0.2264]\n",
      "  [ 0.0583 -0.1389  0.432 ]]\n",
      "\n",
      " [[ 0.284   0.0116 -0.2417]\n",
      "  [ 0.0922 -0.1652  0.5817]\n",
      "  [-0.1591  0.0307 -0.3953]\n",
      "  ...\n",
      "  [ 0.166   0.0056  0.3049]\n",
      "  [ 0.0097  0.5682  0.166 ]\n",
      "  [ 0.0389  0.4084 -0.0194]]\n",
      "\n",
      " [[ 0.0212 -0.1789 -0.2342]\n",
      "  [-0.1072 -0.0669 -0.1461]\n",
      "  [ 0.1768 -0.2035  0.3803]\n",
      "  ...\n",
      "  [-0.1403  0.5043  0.2757]\n",
      "  [ 0.2382  0.0604 -0.1757]\n",
      "  [ 0.3792 -0.4549 -0.5626]]\n",
      "\n",
      " ...\n",
      "\n",
      " [[ 0.0495  0.0627  0.0594]\n",
      "  [ 0.0693  0.0693  0.0561]\n",
      "  [ 0.0627  0.0594  0.0693]\n",
      "  ...\n",
      "  [ 0.5392  0.5428  0.5439]\n",
      "  [ 0.5487  0.5428  0.5439]\n",
      "  [ 0.5416  0.5416  0.538 ]]\n",
      "\n",
      " [[ 0.0528  0.0627  0.0561]\n",
      "  [ 0.0528  0.0726  0.0726]\n",
      "  [ 0.0693  0.0594  0.0627]\n",
      "  ...\n",
      "  [ 0.5451  0.5344  0.5416]\n",
      "  [ 0.5392  0.5475  0.5344]\n",
      "  [ 0.5511  0.5368  0.5451]]\n",
      "\n",
      " [[ 0.0924  0.0693  0.099 ]\n",
      "  [ 0.0891  0.0858  0.0924]\n",
      "  [ 0.0924  0.0858  0.0858]\n",
      "  ...\n",
      "  [ 0.5439  0.5344  0.5392]\n",
      "  [ 0.5451  0.5439  0.5475]\n",
      "  [ 0.5404  0.5392  0.5392]]]\n"
     ]
    }
   ],
   "source": [
    "# reshape data into segments using another function\n",
    "# This function will take in the dataframe and the label names \n",
    "#(the constant that we have defined at the beginning) as well as the length of each record. \n",
    "#In our case, let’s go with 80 steps.\n",
    "# function will also separate the features (x-acceleration, y-acceleration, z-acceleration) and the labels (associated activity).\n",
    "\n",
    "def create_segments_and_labels(df, time_steps, step, label_name):\n",
    "\n",
    "    # x, y, z acceleration as features\n",
    "    N_FEATURES = 3\n",
    "    # Number of steps to advance in each iteration (for me, it should always\n",
    "    # be equal to the time_steps in order to have no overlap between segments)\n",
    "    # step = time_steps\n",
    "    segments = []\n",
    "    labels = []\n",
    "    # get list of unique user\n",
    "    users = df['user-id'].unique()\n",
    "    #print(users)\n",
    "    for id in users:#users:\n",
    "        sub_df = df[df['user-id']==id]\n",
    "        for i in range(0, len(sub_df) - time_steps, step):     #obtain value in each axis from each segments\n",
    "            xs = sub_df['x-axis'].values[i: i + time_steps]\n",
    "            ys = sub_df['y-axis'].values[i: i + time_steps]\n",
    "            zs = sub_df['z-axis'].values[i: i + time_steps]\n",
    "            # Retrieve the most often used label in this segment\n",
    "            label = stats.mode(sub_df[label_name][i: i + time_steps])[0][0]\n",
    "            segments.append([xs, ys, zs])\n",
    "            labels.append(label)\n",
    "        #print(segments)\n",
    "        #print(labels)\n",
    "    # Bring the segments into a better shape\n",
    "    # np.asarray() create new numpy array from 'segments' list with all elements convert to 'float32' data type\n",
    "    # .reshaped() reshapes the newly created numpy array into a 3D array with time_steps time steps and N_FEATURES features per time step\n",
    "    # -1 is inferred by numpy and depends on the size of the original array and the given number of time steps and features. It is used to automatically determine the size of the first dimension to ensure that the reshape operation does not lose any data.\n",
    "    reshaped_segments = np.asarray(segments, dtype= np.float32).reshape(-1, time_steps, N_FEATURES)\n",
    "    print(reshaped_segments)\n",
    "    labels = np.asarray(labels)\n",
    "\n",
    "    return reshaped_segments, labels\n",
    "\n",
    "x, y = create_segments_and_labels(df,\n",
    "                                    TIME_PERIODS,\n",
    "                                    STEP_DISTANCE,\n",
    "                                     LABEL)"
   ]
  },
  {
   "cell_type": "code",
   "execution_count": 8,
   "id": "21ad1049-ef65-49e4-a947-10b22e5d1ad1",
   "metadata": {
    "execution": {
     "iopub.execute_input": "2023-11-17T19:22:42.127435Z",
     "iopub.status.busy": "2023-11-17T19:22:42.127031Z",
     "iopub.status.idle": "2023-11-17T19:22:42.157692Z",
     "shell.execute_reply": "2023-11-17T19:22:42.157114Z",
     "shell.execute_reply.started": "2023-11-17T19:22:42.127411Z"
    },
    "tags": []
   },
   "outputs": [
    {
     "name": "stdout",
     "output_type": "stream",
     "text": [
      "Train Data Shape: (23014, 80, 3)\n",
      "Test Data Shape: (5754, 80, 3)\n",
      "Train_y Data Shape: (23014,)\n",
      "Test_y Data Shape: (5754,)\n"
     ]
    }
   ],
   "source": [
    "# Split data into test set and training set\n",
    "from sklearn.model_selection import train_test_split\n",
    "\n",
    "x_train, x_test, y_train, y_test = train_test_split(x,y, test_size=0.2, random_state=42) \n",
    "\n",
    "# train_data will contain 80% of the rows\n",
    "# test_data will contain 20% of the rows\n",
    "\n",
    "# Print the shapes of the resulting dataframes\n",
    "print(\"Train Data Shape:\", x_train.shape)\n",
    "print(\"Test Data Shape:\", x_test.shape)\n",
    "print(\"Train_y Data Shape:\", y_train.shape)\n",
    "print(\"Test_y Data Shape:\", y_test.shape)"
   ]
  },
  {
   "cell_type": "code",
   "execution_count": 9,
   "id": "59b6dc4f-f8c6-469a-b72f-ac4121dbc297",
   "metadata": {
    "execution": {
     "iopub.execute_input": "2023-11-17T19:22:45.537689Z",
     "iopub.status.busy": "2023-11-17T19:22:45.537324Z",
     "iopub.status.idle": "2023-11-17T19:22:45.739654Z",
     "shell.execute_reply": "2023-11-17T19:22:45.739060Z",
     "shell.execute_reply.started": "2023-11-17T19:22:45.537667Z"
    },
    "tags": []
   },
   "outputs": [
    {
     "data": {
      "text/plain": [
       "<Axes: ylabel='count'>"
      ]
     },
     "execution_count": 9,
     "metadata": {},
     "output_type": "execute_result"
    },
    {
     "data": {
      "image/png": "[encoded data removed]",
      "text/plain": [
       "<Figure size 432x288 with 1 Axes>"
      ]
     },
     "metadata": {},
     "output_type": "display_data"
    }
   ],
   "source": [
    "sns.countplot(x=y_train)"
   ]
  },
  {
   "cell_type": "code",
   "execution_count": 10,
   "id": "18ff9134-b44c-48de-866e-acd76b84f37a",
   "metadata": {
    "execution": {
     "iopub.execute_input": "2023-11-17T19:22:46.791151Z",
     "iopub.status.busy": "2023-11-17T19:22:46.790791Z",
     "iopub.status.idle": "2023-11-17T19:22:47.136350Z",
     "shell.execute_reply": "2023-11-17T19:22:47.135800Z",
     "shell.execute_reply.started": "2023-11-17T19:22:46.791129Z"
    },
    "tags": []
   },
   "outputs": [
    {
     "data": {
      "text/plain": [
       "<Axes: ylabel='count'>"
      ]
     },
     "execution_count": 10,
     "metadata": {},
     "output_type": "execute_result"
    },
    {
     "data": {
      "image/png": "[encoded data removed]",
      "text/plain": [
       "<Figure size 432x288 with 1 Axes>"
      ]
     },
     "metadata": {},
     "output_type": "display_data"
    }
   ],
   "source": [
    "sns.countplot(x=y_test)"
   ]
  },
  {
   "cell_type": "code",
   "execution_count": 11,
   "id": "505998d0-7947-45da-850f-e38d56c2d5af",
   "metadata": {
    "execution": {
     "iopub.execute_input": "2023-11-17T19:22:50.211491Z",
     "iopub.status.busy": "2023-11-17T19:22:50.211084Z",
     "iopub.status.idle": "2023-11-17T19:22:50.228895Z",
     "shell.execute_reply": "2023-11-17T19:22:50.228275Z",
     "shell.execute_reply.started": "2023-11-17T19:22:50.211466Z"
    },
    "tags": []
   },
   "outputs": [],
   "source": [
    "#sub sample jogging and walking \n",
    "def subsample_labels(x_train, y_train, label_subsample_info):\n",
    "    \"\"\"\n",
    "    Subsamples multiple labels in y_train and selects the corresponding samples in x_train.\n",
    " \n",
    "    :param x_train: Input features (NumPy array).\n",
    "    :param y_train: Target labels (NumPy array).\n",
    "    :param label_subsample_info: A dictionary with labels as keys and subsample sizes as values.\n",
    "    :return: Subsampled x_train and y_train.\n",
    "    \"\"\"\n",
    "    subsampled_indices = []\n",
    " \n",
    "    # Iterate through each label to subsample\n",
    "    for label, subsample_size in label_subsample_info.items():\n",
    "        # Find indices where the label matches\n",
    "        label_indices = np.where(y_train == label)[0]\n",
    " \n",
    "        # Randomly select indices for subsampling\n",
    "        if subsample_size < len(label_indices):\n",
    "            subsampled_label_indices = np.random.choice(label_indices, size=subsample_size, replace=False)\n",
    "        else:\n",
    "            subsampled_label_indices = label_indices\n",
    " \n",
    "        subsampled_indices.extend(subsampled_label_indices)\n",
    " \n",
    "    # Add indices of all other labels that are not subsampled\n",
    "    other_labels_indices = [i for i in range(len(y_train)) if y_train[i] not in label_subsample_info]\n",
    "    subsampled_indices.extend(other_labels_indices)\n",
    " \n",
    "    # Select the corresponding samples in x_train and y_train\n",
    "    x_subsample = x_train[subsampled_indices]\n",
    "    y_subsample = y_train[subsampled_indices]\n",
    " \n",
    "    return x_subsample, y_subsample\n",
    "\n",
    "label_subsample_info = {1: 3000, 6: 3000}  # Subsample 100 samples of label 1 and 150 of label 2\n",
    "x_subsample, y_subsample = subsample_labels(x_train, y_train, label_subsample_info)"
   ]
  },
  {
   "cell_type": "code",
   "execution_count": 12,
   "id": "e6fd93e1-d570-4c50-a0ef-a35e461c0710",
   "metadata": {
    "execution": {
     "iopub.execute_input": "2023-11-17T19:22:52.127771Z",
     "iopub.status.busy": "2023-11-17T19:22:52.127385Z",
     "iopub.status.idle": "2023-11-17T19:22:52.317168Z",
     "shell.execute_reply": "2023-11-17T19:22:52.316634Z",
     "shell.execute_reply.started": "2023-11-17T19:22:52.127750Z"
    },
    "tags": []
   },
   "outputs": [
    {
     "data": {
      "text/plain": [
       "<Axes: ylabel='count'>"
      ]
     },
     "execution_count": 12,
     "metadata": {},
     "output_type": "execute_result"
    },
    {
     "data": {
      "image/png": "[encoded data removed]",
      "text/plain": [
       "<Figure size 432x288 with 1 Axes>"
      ]
     },
     "metadata": {},
     "output_type": "display_data"
    }
   ],
   "source": [
    "sns.countplot(x=y_subsample)"
   ]
  },
  {
   "cell_type": "code",
   "execution_count": 13,
   "id": "b066c1e4-1448-4a0d-be3b-1ae84f445850",
   "metadata": {
    "execution": {
     "iopub.execute_input": "2023-11-17T19:23:43.613328Z",
     "iopub.status.busy": "2023-11-17T19:23:43.612950Z",
     "iopub.status.idle": "2023-11-17T19:23:43.646930Z",
     "shell.execute_reply": "2023-11-17T19:23:43.646311Z",
     "shell.execute_reply.started": "2023-11-17T19:23:43.613304Z"
    },
    "tags": []
   },
   "outputs": [],
   "source": [
    "# copy array\n",
    "copy_x_train_1 = x_subsample.copy()\n",
    "copy_x_train_2 = x_subsample.copy()\n",
    "copy_x_train_3 = x_subsample.copy()\n",
    "copy_x_train_4 = x_subsample.copy()\n",
    "copy_x_train_5 = x_subsample.copy()\n",
    "copy_x_train_6 = x_subsample.copy()\n",
    "copy_x_train_7 = x_subsample.copy()\n",
    "\n",
    "copy_y_train_1 = y_subsample.copy()\n",
    "copy_y_train_2 = y_subsample.copy()\n",
    "copy_y_train_3 = y_subsample.copy()\n",
    "copy_y_train_4 = y_subsample.copy()\n",
    "copy_y_train_5 = y_subsample.copy()\n",
    "copy_y_train_6 = y_subsample.copy()\n",
    "copy_y_train_7 = y_subsample.copy()\n"
   ]
  },
  {
   "cell_type": "code",
   "execution_count": 14,
   "id": "c4ececf0-92b7-47d7-8036-3513e50d08a5",
   "metadata": {
    "execution": {
     "iopub.execute_input": "2023-11-17T19:23:56.739251Z",
     "iopub.status.busy": "2023-11-17T19:23:56.738864Z",
     "iopub.status.idle": "2023-11-17T19:23:56.743128Z",
     "shell.execute_reply": "2023-11-17T19:23:56.742610Z",
     "shell.execute_reply.started": "2023-11-17T19:23:56.739226Z"
    },
    "tags": []
   },
   "outputs": [],
   "source": [
    "''' Data augmentation: Rotation '''\n",
    "def DA_Rotation(x):\n",
    "    \n",
    "    axis = np.random.uniform(low=-1, high=1, size=3)\n",
    "    angle = np.random.uniform(low=-np.pi, high=np.pi)\n",
    "    return np.matmul(x , axangle2mat(axis,angle))\n",
    "\n",
    "# def rotating(x):\n",
    "#     return layers.Lambda(lambda x: DA_Rotation(x))\n",
    "\n",
    "# x_train_rotated = rotating(x_train)\n",
    "\n",
    "# class DataRotation(layers.Layer):\n",
    "#   def __init__(self, **kwargs):\n",
    "#     super().__init__(**kwargs)\n",
    "\n",
    "#   def call(self, x):\n",
    "#     return DA_Rotation(x)"
   ]
  },
  {
   "cell_type": "code",
   "execution_count": 15,
   "id": "9e97e29e-2859-48d4-a630-bb876888dc60",
   "metadata": {
    "execution": {
     "iopub.execute_input": "2023-11-17T19:23:57.522403Z",
     "iopub.status.busy": "2023-11-17T19:23:57.522036Z",
     "iopub.status.idle": "2023-11-17T19:23:57.527828Z",
     "shell.execute_reply": "2023-11-17T19:23:57.527296Z",
     "shell.execute_reply.started": "2023-11-17T19:23:57.522380Z"
    },
    "tags": []
   },
   "outputs": [],
   "source": [
    "'''Permutation'''\n",
    "nPerm = 4 # of segments to permute\n",
    "minSegLength = 80 #allowable minimum length for each segment\n",
    "\n",
    "def DA_Permutation(X, nPerm=4, minSegLength=10):\n",
    "    #X = X.numpy()  # convert tensor to numpy array\n",
    "    X_new = np.zeros(X.shape)\n",
    "    idx = np.random.permutation(nPerm)\n",
    "    bWhile = True\n",
    "    while bWhile == True:\n",
    "        segs = np.zeros(nPerm+1, dtype=int)\n",
    "        segs[1:-1] = np.sort(np.random.randint(minSegLength, X.shape[0]-minSegLength, nPerm-1))\n",
    "        segs[-1] = X.shape[0]\n",
    "        if np.min(segs[1:]-segs[0:-1]) > minSegLength:\n",
    "            bWhile = False\n",
    "    pp = 0\n",
    "    for ii in range(nPerm):\n",
    "        x_temp = X[segs[idx[ii]]:segs[idx[ii]+1],:]\n",
    "        X_new[pp:pp+len(x_temp),:] = x_temp\n",
    "        pp += len(x_temp)\n",
    "    return(X_new)"
   ]
  },
  {
   "cell_type": "code",
   "execution_count": 16,
   "id": "be8ede60-5853-4f87-a309-bc262f2e831c",
   "metadata": {
    "execution": {
     "iopub.execute_input": "2023-11-17T19:24:00.273429Z",
     "iopub.status.busy": "2023-11-17T19:24:00.273063Z",
     "iopub.status.idle": "2023-11-17T19:24:00.280376Z",
     "shell.execute_reply": "2023-11-17T19:24:00.279839Z",
     "shell.execute_reply.started": "2023-11-17T19:24:00.273408Z"
    },
    "tags": []
   },
   "outputs": [],
   "source": [
    "'''time wraping'''\n",
    "def GenerateRandomCurves(X, sigma=0.2, knot=4):\n",
    "    xx = np.linspace(0, 1, knot+2)  # knot+2 points in [0, 1]\n",
    "    yy = np.random.normal(loc=1.0, scale=sigma, size=(knot+2, X.shape[1]))\n",
    "    x_range = np.linspace(0, 1, X.shape[0])\n",
    "    cs = [CubicSpline(xx, yy[:,i]) for i in range(X.shape[1])]\n",
    "    return np.array([cs[i](x_range) for i in range(X.shape[1])]).transpose()\n",
    "\n",
    "def DistortTimesteps(X, sigma=0.2):\n",
    "    tt = GenerateRandomCurves(X, sigma)\n",
    "    tt_cum = np.cumsum(tt, axis=0)\n",
    "    t_scale = [(X.shape[0]-1)/tt_cum[-1,i] for i in range(X.shape[1])]\n",
    "    for i in range(X.shape[1]):\n",
    "        tt_cum[:,i] = tt_cum[:,i]*t_scale[i]\n",
    "    return tt_cum\n",
    "\n",
    "def DA_TimeWarp(X, sigma=0.2):\n",
    "    X_new = np.zeros(X.shape)\n",
    "    for i in range(X.shape[0]):\n",
    "        tt_new = DistortTimesteps(X[i], sigma)\n",
    "        for j in range(X.shape[2]):\n",
    "            X_new[i,:,j] = np.interp(np.arange(X.shape[1]), tt_new[:,j], X[i,:,j])\n",
    "    return X_new"
   ]
  },
  {
   "cell_type": "code",
   "execution_count": 17,
   "id": "b0507f20-111a-4267-9707-2e74172c1f3e",
   "metadata": {
    "execution": {
     "iopub.execute_input": "2023-11-17T19:24:36.603548Z",
     "iopub.status.busy": "2023-11-17T19:24:36.603140Z",
     "iopub.status.idle": "2023-11-17T19:25:12.118233Z",
     "shell.execute_reply": "2023-11-17T19:25:12.117635Z",
     "shell.execute_reply.started": "2023-11-17T19:24:36.603525Z"
    },
    "tags": []
   },
   "outputs": [],
   "source": [
    "# Do data augmentation on copied x_train \n",
    "copy_x_train_1 = DA_Rotation(copy_x_train_1)\n",
    "copy_x_train_2 = DA_Permutation(copy_x_train_2)\n",
    "copy_x_train_3 = DA_TimeWarp(copy_x_train_3)\n",
    "\n",
    "copy_x_train_4 = DA_Rotation(copy_x_train_4)\n",
    "copy_x_train_4 = DA_Permutation(copy_x_train_4)\n",
    "copy_x_train_4 = DA_TimeWarp(copy_x_train_4)\n",
    "\n",
    "copy_x_train_5 = DA_Rotation(copy_x_train_5)\n",
    "copy_x_train_5 = DA_Permutation(copy_x_train_5)\n",
    "\n",
    "copy_x_train_6 = DA_Rotation(copy_x_train_6)\n",
    "copy_x_train_6 = DA_TimeWarp(copy_x_train_6)\n",
    "\n",
    "copy_x_train_7 = DA_Permutation(copy_x_train_7)\n",
    "copy_x_train_7 = DA_TimeWarp(copy_x_train_7)\n"
   ]
  },
  {
   "cell_type": "code",
   "execution_count": 18,
   "id": "c40989f9-8444-449f-9ba1-ddb50818d4db",
   "metadata": {
    "execution": {
     "iopub.execute_input": "2023-11-17T19:25:32.461808Z",
     "iopub.status.busy": "2023-11-17T19:25:32.461433Z",
     "iopub.status.idle": "2023-11-17T19:25:32.693116Z",
     "shell.execute_reply": "2023-11-17T19:25:32.692515Z",
     "shell.execute_reply.started": "2023-11-17T19:25:32.461784Z"
    },
    "tags": []
   },
   "outputs": [
    {
     "name": "stdout",
     "output_type": "stream",
     "text": [
      "(118984, 80, 3)\n"
     ]
    }
   ],
   "source": [
    "# add 4 augmented data to original x_train\n",
    "concat_x_train = np.concatenate((x_train, copy_x_train_1, copy_x_train_2))\n",
    "concat_x_train = np.concatenate((concat_x_train,copy_x_train_3, copy_x_train_4))\n",
    "concat_x_train = np.concatenate((concat_x_train,copy_x_train_5, copy_x_train_6))\n",
    "concat_x_train = np.concatenate((concat_x_train,copy_x_train_7))\n",
    "\n",
    "concat_y_train = np.concatenate((y_train,copy_y_train_1,copy_y_train_2))\n",
    "concat_y_train = np.concatenate((concat_y_train, copy_y_train_3, copy_y_train_4))\n",
    "concat_y_train = np.concatenate((concat_y_train,copy_y_train_5, copy_y_train_6))\n",
    "concat_y_train = np.concatenate((concat_y_train,copy_y_train_7))\n",
    "\n",
    "print(concat_x_train.shape)"
   ]
  },
  {
   "cell_type": "code",
   "execution_count": 19,
   "id": "f332584d-91d9-4e7a-9033-23055a776b5e",
   "metadata": {
    "execution": {
     "iopub.execute_input": "2023-11-17T19:25:45.126976Z",
     "iopub.status.busy": "2023-11-17T19:25:45.126605Z",
     "iopub.status.idle": "2023-11-17T19:25:45.130907Z",
     "shell.execute_reply": "2023-11-17T19:25:45.130356Z",
     "shell.execute_reply.started": "2023-11-17T19:25:45.126954Z"
    },
    "tags": []
   },
   "outputs": [
    {
     "name": "stdout",
     "output_type": "stream",
     "text": [
      "['Downstairs', 'Jogging', 'Laying', 'Sitting', 'Standing', 'Upstairs', 'Walking']\n"
     ]
    }
   ],
   "source": [
    "# Set input & output dimensions in Deep neural network\n",
    "# num time period = 80, num sensors = 3 (x,y,z axis)\n",
    "num_time_periods, num_sensors = concat_x_train.shape[1], concat_x_train.shape[2]\n",
    "# Number of classes: This is the amount of nodes for our output layer in the neural network. \n",
    "num_classes = le.classes_.size \n",
    "# property of LabelEncoder(): returns the number of unique categories in the input data that were encoded\n",
    "# '.classes_ 'returns a sorted array of the unique categories in the input data\n",
    "# '.size' property returns the length of this array\n",
    "print(list(le.classes_))"
   ]
  },
  {
   "cell_type": "code",
   "execution_count": 20,
   "id": "af1a1469-de1c-4bb7-a9ac-5028c1348863",
   "metadata": {
    "execution": {
     "iopub.execute_input": "2023-11-17T19:25:49.302741Z",
     "iopub.status.busy": "2023-11-17T19:25:49.302367Z",
     "iopub.status.idle": "2023-11-17T19:25:49.307239Z",
     "shell.execute_reply": "2023-11-17T19:25:49.306515Z",
     "shell.execute_reply.started": "2023-11-17T19:25:49.302719Z"
    },
    "tags": []
   },
   "outputs": [
    {
     "name": "stdout",
     "output_type": "stream",
     "text": [
      "concat_x_train shape: (118984, 240)\n",
      "input_shape: 240\n",
      "x_test shape: (5754, 240)\n"
     ]
    }
   ],
   "source": [
    "# convert 2D data (80x3) into a list of 240 values since Keras and Core ML cannot be used with multi-dimensional input data.\n",
    "input_shape = (num_time_periods*num_sensors)\n",
    "concat_x_train = concat_x_train.reshape(concat_x_train.shape[0], input_shape) # reshape x_train array into 1D by slicing 20868 samples into various lists containing 240 elements\n",
    "x_test = x_test.reshape(x_test.shape[0], input_shape)\n",
    "print('concat_x_train shape:', concat_x_train.shape)\n",
    "print('input_shape:', input_shape)\n",
    "print('x_test shape:', x_test.shape)"
   ]
  },
  {
   "cell_type": "code",
   "execution_count": 21,
   "id": "8612f1c0-6d71-407b-bef1-bbb632ccc3ee",
   "metadata": {
    "execution": {
     "iopub.execute_input": "2023-11-17T19:25:51.660478Z",
     "iopub.status.busy": "2023-11-17T19:25:51.660107Z",
     "iopub.status.idle": "2023-11-17T19:25:51.708389Z",
     "shell.execute_reply": "2023-11-17T19:25:51.707785Z",
     "shell.execute_reply.started": "2023-11-17T19:25:51.660456Z"
    },
    "tags": []
   },
   "outputs": [],
   "source": [
    "# convert all feature data (x_train) and label data (y_train) into a datatype accepted by Keras.\n",
    "concat_x_train = concat_x_train.astype('float32')\n",
    "concat_y_train = concat_y_train.astype('float32')"
   ]
  },
  {
   "cell_type": "code",
   "execution_count": 22,
   "id": "6afb83d7-eeaa-47e9-ab2c-35879399e802",
   "metadata": {
    "execution": {
     "iopub.execute_input": "2023-11-17T19:25:53.708718Z",
     "iopub.status.busy": "2023-11-17T19:25:53.708338Z",
     "iopub.status.idle": "2023-11-17T19:25:53.714930Z",
     "shell.execute_reply": "2023-11-17T19:25:53.714208Z",
     "shell.execute_reply.started": "2023-11-17T19:25:53.708694Z"
    },
    "tags": []
   },
   "outputs": [
    {
     "name": "stdout",
     "output_type": "stream",
     "text": [
      "New y_train shape:  (118984, 7)\n",
      "New y_test shape:  (5754, 7)\n"
     ]
    }
   ],
   "source": [
    "# perform onehotencoder to convert labels into binary vector (numerical value: in this case 0 to 5 since we have 6 types of activity/labels)\n",
    "# use to_categorical() function from the keras.utils module to perform one-hot encoding. It takes 2 arguments: 1.catergorical data 2. total num of categories\n",
    "# also transformed the original array of integer labels into a 2D NumPy array of binary vectors, with one vector for each label.\n",
    "\n",
    "y_train_hot = np_utils.to_categorical(concat_y_train, num_classes)\n",
    "print('New y_train shape: ', y_train_hot.shape)\n",
    "y_test_hot = np_utils.to_categorical(y_test, num_classes)\n",
    "print('New y_test shape: ', y_test_hot.shape)"
   ]
  },
  {
   "cell_type": "code",
   "execution_count": 23,
   "id": "1a9c2ef6-b6cb-42bc-83f8-dfbbacc50f10",
   "metadata": {
    "execution": {
     "iopub.execute_input": "2023-11-17T19:25:55.814700Z",
     "iopub.status.busy": "2023-11-17T19:25:55.814353Z",
     "iopub.status.idle": "2023-11-17T19:25:56.389756Z",
     "shell.execute_reply": "2023-11-17T19:25:56.389075Z",
     "shell.execute_reply.started": "2023-11-17T19:25:55.814676Z"
    },
    "tags": []
   },
   "outputs": [
    {
     "name": "stderr",
     "output_type": "stream",
     "text": [
      "2023-11-17 14:25:56.014415: E tensorflow/compiler/xla/stream_executor/cuda/cuda_driver.cc:266] failed call to cuInit: CUDA_ERROR_NO_DEVICE: no CUDA-capable device is detected\n"
     ]
    },
    {
     "name": "stdout",
     "output_type": "stream",
     "text": [
      "Model: \"sequential\"\n",
      "_________________________________________________________________\n",
      " Layer (type)                Output Shape              Param #   \n",
      "=================================================================\n",
      " reshape (Reshape)           (None, 80, 3)             0         \n",
      "                                                                 \n",
      " conv1d (Conv1D)             (None, 78, 32)            320       \n",
      "                                                                 \n",
      " batch_normalization (BatchN  (None, 78, 32)           128       \n",
      " ormalization)                                                   \n",
      "                                                                 \n",
      " conv1d_1 (Conv1D)           (None, 76, 32)            3104      \n",
      "                                                                 \n",
      " batch_normalization_1 (Batc  (None, 76, 32)           128       \n",
      " hNormalization)                                                 \n",
      "                                                                 \n",
      " max_pooling1d (MaxPooling1D  (None, 38, 32)           0         \n",
      " )                                                               \n",
      "                                                                 \n",
      " conv1d_2 (Conv1D)           (None, 36, 64)            6208      \n",
      "                                                                 \n",
      " batch_normalization_2 (Batc  (None, 36, 64)           256       \n",
      " hNormalization)                                                 \n",
      "                                                                 \n",
      " conv1d_3 (Conv1D)           (None, 34, 64)            12352     \n",
      "                                                                 \n",
      " batch_normalization_3 (Batc  (None, 34, 64)           256       \n",
      " hNormalization)                                                 \n",
      "                                                                 \n",
      " max_pooling1d_1 (MaxPooling  (None, 17, 64)           0         \n",
      " 1D)                                                             \n",
      "                                                                 \n",
      " conv1d_4 (Conv1D)           (None, 15, 128)           24704     \n",
      "                                                                 \n",
      " batch_normalization_4 (Batc  (None, 15, 128)          512       \n",
      " hNormalization)                                                 \n",
      "                                                                 \n",
      " conv1d_5 (Conv1D)           (None, 13, 128)           49280     \n",
      "                                                                 \n",
      " batch_normalization_5 (Batc  (None, 13, 128)          512       \n",
      " hNormalization)                                                 \n",
      "                                                                 \n",
      " max_pooling1d_2 (MaxPooling  (None, 6, 128)           0         \n",
      " 1D)                                                             \n",
      "                                                                 \n",
      " conv1d_6 (Conv1D)           (None, 4, 256)            98560     \n",
      "                                                                 \n",
      " batch_normalization_6 (Batc  (None, 4, 256)           1024      \n",
      " hNormalization)                                                 \n",
      "                                                                 \n",
      " conv1d_7 (Conv1D)           (None, 2, 256)            196864    \n",
      "                                                                 \n",
      " batch_normalization_7 (Batc  (None, 2, 256)           1024      \n",
      " hNormalization)                                                 \n",
      "                                                                 \n",
      " max_pooling1d_3 (MaxPooling  (None, 1, 256)           0         \n",
      " 1D)                                                             \n",
      "                                                                 \n",
      " flatten (Flatten)           (None, 256)               0         \n",
      "                                                                 \n",
      " dense (Dense)               (None, 24)                6168      \n",
      "                                                                 \n",
      " dense_1 (Dense)             (None, 24)                600       \n",
      "                                                                 \n",
      " dense_2 (Dense)             (None, 24)                600       \n",
      "                                                                 \n",
      " dense_3 (Dense)             (None, 7)                 175       \n",
      "                                                                 \n",
      "=================================================================\n",
      "Total params: 402,775\n",
      "Trainable params: 400,855\n",
      "Non-trainable params: 1,920\n",
      "_________________________________________________________________\n",
      "None\n"
     ]
    }
   ],
   "source": [
    "'''Model architecture'''\n",
    "conv_model = Sequential()\n",
    "conv_model.add(Reshape((TIME_PERIODS, 3), input_shape=(input_shape,)))   #reshape data from 240 to 80x3 \n",
    "conv_model.add(Conv1D(filters=32,\n",
    "                           kernel_size = 3,\n",
    "                           activation='relu'))\n",
    "conv_model.add(BatchNormalization())\n",
    "conv_model.add(Conv1D(filters=32,\n",
    "                           kernel_size = 3,\n",
    "                           activation='relu'))\n",
    "conv_model.add(BatchNormalization())\n",
    "conv_model.add(MaxPooling1D(pool_size = 2))\n",
    "conv_model.add(Conv1D(filters=64,\n",
    "                           kernel_size = 3,\n",
    "                           activation='relu'))\n",
    "conv_model.add(BatchNormalization())\n",
    "conv_model.add(Conv1D(filters=64,\n",
    "                           kernel_size = 3,\n",
    "                           activation='relu'))\n",
    "conv_model.add(BatchNormalization())\n",
    "conv_model.add(MaxPooling1D(pool_size = 2))\n",
    "conv_model.add(Conv1D(filters=128,\n",
    "                           kernel_size = 3,\n",
    "                           activation='relu'))\n",
    "conv_model.add(BatchNormalization())\n",
    "conv_model.add(Conv1D(filters=128,\n",
    "                           kernel_size = 3,\n",
    "                           activation='relu'))\n",
    "conv_model.add(BatchNormalization())\n",
    "conv_model.add(MaxPooling1D(pool_size = 2))\n",
    "conv_model.add(Conv1D(filters=256,\n",
    "                           kernel_size = 3,\n",
    "                           activation='relu'))\n",
    "conv_model.add(BatchNormalization())\n",
    "conv_model.add(Conv1D(filters=256,\n",
    "                           kernel_size = 3,\n",
    "                           activation='relu'))\n",
    "conv_model.add(BatchNormalization())\n",
    "conv_model.add(MaxPooling1D(pool_size = 2))\n",
    "conv_model.add(Flatten())\n",
    "conv_model.add(Dense(24, activation='relu'))\n",
    "conv_model.add(Dense(24, activation='relu'))\n",
    "conv_model.add(Dense(24, activation='relu'))\n",
    "conv_model.add(Dense(num_classes, activation='softmax'))                    # The softmax activation function is commonly used in the output layer of a classification neural network. It converts the output of the previous layer to a probability distribution over the classes. The output values from the softmax function sum to 1, and each value represents the probability that the input belongs to a specific class.\n",
    "\n",
    "print(conv_model.summary())"
   ]
  },
  {
   "cell_type": "code",
   "execution_count": 24,
   "id": "f33a06f8-c286-488f-9a4a-0c8f7075fe63",
   "metadata": {
    "execution": {
     "iopub.execute_input": "2023-11-17T19:26:07.190234Z",
     "iopub.status.busy": "2023-11-17T19:26:07.189840Z",
     "iopub.status.idle": "2023-11-17T19:35:50.699102Z",
     "shell.execute_reply": "2023-11-17T19:35:50.698526Z",
     "shell.execute_reply.started": "2023-11-17T19:26:07.190206Z"
    },
    "tags": []
   },
   "outputs": [
    {
     "name": "stdout",
     "output_type": "stream",
     "text": [
      "Epoch 1/50\n",
      "238/238 [==============================] - 14s 51ms/step - loss: 1.1324 - accuracy: 0.6026 - val_loss: 3.0954 - val_accuracy: 0.1137 - lr: 0.0010\n",
      "Epoch 2/50\n",
      "238/238 [==============================] - 12s 49ms/step - loss: 0.9596 - accuracy: 0.6682 - val_loss: 2.3699 - val_accuracy: 0.4224 - lr: 0.0010\n",
      "Epoch 3/50\n",
      "238/238 [==============================] - 12s 49ms/step - loss: 0.9116 - accuracy: 0.6865 - val_loss: 3.1681 - val_accuracy: 0.4325 - lr: 0.0010\n",
      "Epoch 4/50\n",
      "238/238 [==============================] - 12s 48ms/step - loss: 0.8843 - accuracy: 0.6959 - val_loss: 3.3594 - val_accuracy: 0.4105 - lr: 0.0010\n",
      "Epoch 5/50\n",
      "238/238 [==============================] - 12s 49ms/step - loss: 0.8615 - accuracy: 0.7042 - val_loss: 3.0247 - val_accuracy: 0.4053 - lr: 0.0010\n",
      "Epoch 6/50\n",
      "238/238 [==============================] - 12s 49ms/step - loss: 0.8441 - accuracy: 0.7112 - val_loss: 3.6741 - val_accuracy: 0.4456 - lr: 0.0010\n",
      "Epoch 7/50\n",
      "238/238 [==============================] - 12s 49ms/step - loss: 0.8285 - accuracy: 0.7166 - val_loss: 3.5290 - val_accuracy: 0.4363 - lr: 0.0010\n",
      "Epoch 8/50\n",
      "238/238 [==============================] - 12s 49ms/step - loss: 0.8147 - accuracy: 0.7204 - val_loss: 3.0274 - val_accuracy: 0.5100 - lr: 0.0010\n",
      "Epoch 9/50\n",
      "238/238 [==============================] - 12s 49ms/step - loss: 0.8020 - accuracy: 0.7255 - val_loss: 4.0147 - val_accuracy: 0.4294 - lr: 0.0010\n",
      "Epoch 10/50\n",
      "238/238 [==============================] - 12s 49ms/step - loss: 0.7919 - accuracy: 0.7280 - val_loss: 4.3024 - val_accuracy: 0.4011 - lr: 0.0010\n",
      "Epoch 11/50\n",
      "238/238 [==============================] - 12s 49ms/step - loss: 0.7787 - accuracy: 0.7330 - val_loss: 5.0585 - val_accuracy: 0.4006 - lr: 0.0010\n",
      "Epoch 12/50\n",
      "238/238 [==============================] - 12s 49ms/step - loss: 0.7685 - accuracy: 0.7360 - val_loss: 4.7758 - val_accuracy: 0.4315 - lr: 0.0010\n",
      "Epoch 13/50\n",
      "238/238 [==============================] - 12s 49ms/step - loss: 0.7158 - accuracy: 0.7539 - val_loss: 4.7329 - val_accuracy: 0.4496 - lr: 1.0000e-04\n",
      "Epoch 14/50\n",
      "238/238 [==============================] - 12s 49ms/step - loss: 0.6928 - accuracy: 0.7602 - val_loss: 4.8569 - val_accuracy: 0.4459 - lr: 1.0000e-04\n",
      "Epoch 15/50\n",
      "238/238 [==============================] - 12s 49ms/step - loss: 0.6794 - accuracy: 0.7635 - val_loss: 5.1566 - val_accuracy: 0.4469 - lr: 1.0000e-04\n",
      "Epoch 16/50\n",
      "238/238 [==============================] - 12s 49ms/step - loss: 0.6674 - accuracy: 0.7668 - val_loss: 5.3544 - val_accuracy: 0.4464 - lr: 1.0000e-04\n",
      "Epoch 17/50\n",
      "238/238 [==============================] - 12s 49ms/step - loss: 0.6563 - accuracy: 0.7698 - val_loss: 5.6428 - val_accuracy: 0.4401 - lr: 1.0000e-04\n",
      "Epoch 18/50\n",
      "238/238 [==============================] - 12s 49ms/step - loss: 0.6448 - accuracy: 0.7723 - val_loss: 5.6876 - val_accuracy: 0.4508 - lr: 1.0000e-04\n",
      "Epoch 19/50\n",
      "238/238 [==============================] - 12s 49ms/step - loss: 0.6349 - accuracy: 0.7754 - val_loss: 5.8862 - val_accuracy: 0.4454 - lr: 1.0000e-04\n",
      "Epoch 20/50\n",
      "238/238 [==============================] - 12s 49ms/step - loss: 0.6238 - accuracy: 0.7773 - val_loss: 6.2727 - val_accuracy: 0.4377 - lr: 1.0000e-04\n",
      "Epoch 21/50\n",
      "238/238 [==============================] - 12s 49ms/step - loss: 0.6128 - accuracy: 0.7804 - val_loss: 6.4021 - val_accuracy: 0.4379 - lr: 1.0000e-04\n",
      "Epoch 22/50\n",
      "238/238 [==============================] - 12s 49ms/step - loss: 0.6021 - accuracy: 0.7823 - val_loss: 6.4798 - val_accuracy: 0.4437 - lr: 1.0000e-04\n",
      "Epoch 23/50\n",
      "238/238 [==============================] - 12s 49ms/step - loss: 0.5828 - accuracy: 0.7891 - val_loss: 6.6227 - val_accuracy: 0.4425 - lr: 1.0000e-05\n",
      "Epoch 24/50\n",
      "238/238 [==============================] - 12s 49ms/step - loss: 0.5803 - accuracy: 0.7900 - val_loss: 6.6284 - val_accuracy: 0.4427 - lr: 1.0000e-05\n",
      "Epoch 25/50\n",
      "238/238 [==============================] - 12s 49ms/step - loss: 0.5787 - accuracy: 0.7903 - val_loss: 6.6449 - val_accuracy: 0.4430 - lr: 1.0000e-05\n",
      "Epoch 26/50\n",
      "238/238 [==============================] - 12s 49ms/step - loss: 0.5762 - accuracy: 0.7903 - val_loss: 6.7009 - val_accuracy: 0.4404 - lr: 1.0000e-05\n",
      "Epoch 27/50\n",
      "238/238 [==============================] - 12s 49ms/step - loss: 0.5746 - accuracy: 0.7906 - val_loss: 6.7270 - val_accuracy: 0.4417 - lr: 1.0000e-05\n",
      "Epoch 28/50\n",
      "238/238 [==============================] - 12s 49ms/step - loss: 0.5736 - accuracy: 0.7907 - val_loss: 6.7466 - val_accuracy: 0.4409 - lr: 1.0000e-05\n",
      "Epoch 29/50\n",
      "238/238 [==============================] - 12s 49ms/step - loss: 0.5722 - accuracy: 0.7915 - val_loss: 6.7300 - val_accuracy: 0.4413 - lr: 1.0000e-05\n",
      "Epoch 30/50\n",
      "238/238 [==============================] - 12s 49ms/step - loss: 0.5708 - accuracy: 0.7916 - val_loss: 6.7904 - val_accuracy: 0.4407 - lr: 1.0000e-05\n",
      "Epoch 31/50\n",
      "238/238 [==============================] - 12s 49ms/step - loss: 0.5697 - accuracy: 0.7921 - val_loss: 6.8204 - val_accuracy: 0.4393 - lr: 1.0000e-05\n",
      "Epoch 32/50\n",
      "238/238 [==============================] - 12s 49ms/step - loss: 0.5687 - accuracy: 0.7920 - val_loss: 6.8320 - val_accuracy: 0.4390 - lr: 1.0000e-05\n",
      "Epoch 33/50\n",
      "238/238 [==============================] - 12s 49ms/step - loss: 0.5662 - accuracy: 0.7931 - val_loss: 6.8377 - val_accuracy: 0.4398 - lr: 1.0000e-06\n",
      "Epoch 34/50\n",
      "238/238 [==============================] - 12s 49ms/step - loss: 0.5660 - accuracy: 0.7930 - val_loss: 6.8191 - val_accuracy: 0.4408 - lr: 1.0000e-06\n",
      "Epoch 35/50\n",
      "238/238 [==============================] - 12s 49ms/step - loss: 0.5670 - accuracy: 0.7926 - val_loss: 6.8459 - val_accuracy: 0.4403 - lr: 1.0000e-06\n",
      "Epoch 36/50\n",
      "238/238 [==============================] - 12s 49ms/step - loss: 0.5664 - accuracy: 0.7927 - val_loss: 6.8504 - val_accuracy: 0.4403 - lr: 1.0000e-06\n",
      "Epoch 37/50\n",
      "238/238 [==============================] - 12s 49ms/step - loss: 0.5658 - accuracy: 0.7930 - val_loss: 6.8339 - val_accuracy: 0.4414 - lr: 1.0000e-06\n",
      "Epoch 38/50\n",
      "238/238 [==============================] - 12s 49ms/step - loss: 0.5658 - accuracy: 0.7934 - val_loss: 6.8630 - val_accuracy: 0.4398 - lr: 1.0000e-06\n",
      "Epoch 39/50\n",
      "238/238 [==============================] - 12s 49ms/step - loss: 0.5655 - accuracy: 0.7932 - val_loss: 6.8444 - val_accuracy: 0.4412 - lr: 1.0000e-06\n",
      "Epoch 40/50\n",
      "238/238 [==============================] - 12s 49ms/step - loss: 0.5654 - accuracy: 0.7935 - val_loss: 6.8583 - val_accuracy: 0.4409 - lr: 1.0000e-06\n",
      "Epoch 41/50\n",
      "238/238 [==============================] - 12s 49ms/step - loss: 0.5647 - accuracy: 0.7939 - val_loss: 6.8586 - val_accuracy: 0.4403 - lr: 1.0000e-06\n",
      "Epoch 42/50\n",
      "238/238 [==============================] - 12s 49ms/step - loss: 0.5651 - accuracy: 0.7933 - val_loss: 6.8675 - val_accuracy: 0.4405 - lr: 1.0000e-06\n",
      "Epoch 43/50\n",
      "238/238 [==============================] - 12s 49ms/step - loss: 0.5648 - accuracy: 0.7935 - val_loss: 6.8729 - val_accuracy: 0.4400 - lr: 1.0000e-07\n",
      "Epoch 44/50\n",
      "238/238 [==============================] - 12s 49ms/step - loss: 0.5648 - accuracy: 0.7932 - val_loss: 6.8625 - val_accuracy: 0.4405 - lr: 1.0000e-07\n",
      "Epoch 45/50\n",
      "238/238 [==============================] - 12s 49ms/step - loss: 0.5647 - accuracy: 0.7934 - val_loss: 6.8595 - val_accuracy: 0.4409 - lr: 1.0000e-07\n",
      "Epoch 46/50\n",
      "238/238 [==============================] - 12s 49ms/step - loss: 0.5653 - accuracy: 0.7931 - val_loss: 6.8734 - val_accuracy: 0.4398 - lr: 1.0000e-07\n",
      "Epoch 47/50\n",
      "238/238 [==============================] - 12s 49ms/step - loss: 0.5653 - accuracy: 0.7932 - val_loss: 6.8730 - val_accuracy: 0.4396 - lr: 1.0000e-07\n",
      "Epoch 48/50\n",
      "238/238 [==============================] - 12s 49ms/step - loss: 0.5656 - accuracy: 0.7927 - val_loss: 6.8824 - val_accuracy: 0.4400 - lr: 1.0000e-07\n",
      "Epoch 49/50\n",
      "238/238 [==============================] - 12s 49ms/step - loss: 0.5641 - accuracy: 0.7936 - val_loss: 6.8597 - val_accuracy: 0.4406 - lr: 1.0000e-07\n",
      "Epoch 50/50\n",
      "238/238 [==============================] - 12s 49ms/step - loss: 0.5653 - accuracy: 0.7935 - val_loss: 6.8564 - val_accuracy: 0.4411 - lr: 1.0000e-07\n"
     ]
    }
   ],
   "source": [
    "''' Caution: need to change name of saved checkpoints everytime '''\n",
    "callbacks_list = [\n",
    "    keras.callbacks.ModelCheckpoint(\n",
    "        filepath='CNN_allact_dataaug_4.{epoch:02d}-{val_loss:.2f}.h5',  \n",
    "        monitor='val_loss', save_best_only=True),\n",
    "    keras.callbacks.EarlyStopping(monitor='acc', patience=1),\n",
    "    keras.callbacks.ReduceLROnPlateau(\n",
    "    monitor='val_loss',\n",
    "    factor=0.1,\n",
    "    patience=10,\n",
    "    verbose=0,\n",
    "    mode='auto',\n",
    "    min_delta=0.0001,\n",
    "    cooldown=0,\n",
    "    min_lr=0\n",
    ")\n",
    "]\n",
    "\n",
    "# Hyper-parameters\n",
    "BATCH_SIZE = 400\n",
    "EPOCHS = 50\n",
    "\n",
    "conv_model.compile(loss='categorical_crossentropy', \n",
    "                   optimizer = keras.optimizers.Adam(learning_rate = 0.001), \n",
    "                   metrics=['accuracy'])\n",
    "\n",
    "# Enable validation to use ModelCheckpoint and EarlyStopping callbacks.\n",
    "history = conv_model.fit(concat_x_train,\n",
    "                      y_train_hot,\n",
    "                      batch_size=BATCH_SIZE,\n",
    "                      epochs=EPOCHS,\n",
    "                      callbacks=callbacks_list,\n",
    "                      validation_split=0.2,\n",
    "                      verbose=1)"
   ]
  },
  {
   "cell_type": "code",
   "execution_count": 25,
   "id": "2bd0a10c-3dc0-4038-a7fd-be0c097d97fc",
   "metadata": {
    "execution": {
     "iopub.execute_input": "2023-11-17T19:43:16.570348Z",
     "iopub.status.busy": "2023-11-17T19:43:16.569955Z",
     "iopub.status.idle": "2023-11-17T19:43:30.799129Z",
     "shell.execute_reply": "2023-11-17T19:43:30.798525Z",
     "shell.execute_reply.started": "2023-11-17T19:43:16.570323Z"
    },
    "tags": []
   },
   "outputs": [
    {
     "data": {
      "image/png": "[encoded data removed]",
      "text/plain": [
       "<Figure size 432x288 with 1 Axes>"
      ]
     },
     "metadata": {},
     "output_type": "display_data"
    },
    {
     "data": {
      "image/png": "[encoded data removed]",
      "text/plain": [
       "<Figure size 432x288 with 1 Axes>"
      ]
     },
     "metadata": {},
     "output_type": "display_data"
    },
    {
     "name": "stdout",
     "output_type": "stream",
     "text": [
      "3719/3719 [==============================] - 12s 3ms/step\n",
      "              precision    recall  f1-score   support\n",
      "\n",
      "         0.0       0.75      0.60      0.67     16128\n",
      "         1.0       0.74      0.77      0.75     27803\n",
      "         2.0       0.76      0.72      0.74      8800\n",
      "         3.0       0.76      0.74      0.75      9600\n",
      "         4.0       0.75      0.72      0.73      7592\n",
      "         5.0       0.76      0.64      0.70     19560\n",
      "         6.0       0.66      0.80      0.73     29501\n",
      "\n",
      "    accuracy                           0.72    118984\n",
      "   macro avg       0.74      0.71      0.72    118984\n",
      "weighted avg       0.73      0.72      0.72    118984\n",
      "\n"
     ]
    }
   ],
   "source": [
    "plt.figure(figsize=(6, 4))\n",
    "plt.plot(history.history['accuracy'], 'r', label='Accuracy of training data')\n",
    "plt.plot(history.history['val_accuracy'], 'b', label='Accuracy of validation data')\n",
    "plt.title('Model Accuracy')\n",
    "plt.ylabel('Accuracy')\n",
    "plt.xlabel('Training Epoch')\n",
    "plt.ylim(0)\n",
    "plt.legend()\n",
    "plt.show()\n",
    "\n",
    "plt.figure(figsize=(6, 4))\n",
    "plt.plot(history.history['loss'], 'r--', label='Loss of training data')\n",
    "plt.plot(history.history['val_loss'], 'b--', label='Loss of validation data')\n",
    "plt.title('Model Loss')\n",
    "plt.ylabel('Loss')\n",
    "plt.xlabel('Training Epoch')\n",
    "plt.ylim(0)\n",
    "plt.legend()\n",
    "plt.show()\n",
    "\n",
    "# Print confusion matrix for training data\n",
    "y_pred_train = conv_model.predict(concat_x_train)\n",
    "# Take the class with the highest probability from the train predictions\n",
    "max_y_pred_train = np.argmax(y_pred_train, axis=1)\n",
    "print(classification_report(concat_y_train, max_y_pred_train))"
   ]
  },
  {
   "cell_type": "code",
   "execution_count": 26,
   "id": "e821d932-895d-4754-b5fd-5fe204170d20",
   "metadata": {
    "execution": {
     "iopub.execute_input": "2023-11-17T19:43:39.481509Z",
     "iopub.status.busy": "2023-11-17T19:43:39.481129Z",
     "iopub.status.idle": "2023-11-17T19:43:40.608304Z",
     "shell.execute_reply": "2023-11-17T19:43:40.607710Z",
     "shell.execute_reply.started": "2023-11-17T19:43:39.481486Z"
    },
    "tags": []
   },
   "outputs": [
    {
     "name": "stdout",
     "output_type": "stream",
     "text": [
      "180/180 [==============================] - 1s 3ms/step\n"
     ]
    },
    {
     "data": {
      "image/png": "[encoded data removed]",
      "text/plain": [
       "<Figure size 432x288 with 2 Axes>"
      ]
     },
     "metadata": {},
     "output_type": "display_data"
    },
    {
     "name": "stdout",
     "output_type": "stream",
     "text": [
      "              precision    recall  f1-score   support\n",
      "\n",
      "           0       0.88      0.77      0.82       496\n",
      "           1       0.98      0.98      0.98      1751\n",
      "           2       1.00      1.00      1.00       267\n",
      "           3       0.99      0.97      0.98       295\n",
      "           4       1.00      0.98      0.99       245\n",
      "           5       0.85      0.82      0.83       612\n",
      "           6       0.94      0.98      0.96      2088\n",
      "\n",
      "    accuracy                           0.95      5754\n",
      "   macro avg       0.95      0.93      0.94      5754\n",
      "weighted avg       0.94      0.95      0.94      5754\n",
      "\n"
     ]
    }
   ],
   "source": [
    "def show_confusion_matrix(validations, predictions):\n",
    "    matrix = metrics.confusion_matrix(validations, predictions)\n",
    "    plt.figure(figsize=(6, 4))\n",
    "    sns.heatmap(matrix,\n",
    "                cmap='coolwarm',\n",
    "                linecolor='white',\n",
    "                linewidths=1,\n",
    "                xticklabels=le.classes_,                \n",
    "                yticklabels=le.classes_,\n",
    "                annot=True,\n",
    "                fmt='d')\n",
    "    plt.title('Confusion Matrix')\n",
    "    plt.ylabel('True Label')\n",
    "    plt.xlabel('Predicted Label')\n",
    "    plt.show()\n",
    "\n",
    "y_pred_test = conv_model.predict(x_test)\n",
    "\n",
    "# Take the class with the highest probability from the test predictions\n",
    "max_y_pred_test = np.argmax(y_pred_test, axis=1)\n",
    "max_y_test = np.argmax(y_test_hot, axis=1)\n",
    "\n",
    "show_confusion_matrix(max_y_test, max_y_pred_test)\n",
    "\n",
    "print(classification_report(max_y_test, max_y_pred_test))"
   ]
  },
  {
   "cell_type": "code",
   "execution_count": null,
   "id": "4c5468d9-9681-495e-b434-3cc194619a27",
   "metadata": {},
   "outputs": [],
   "source": []
  }
 ],
 "metadata": {
  "kernelspec": {
   "display_name": "Python 3.10.x",
   "language": "python",
   "name": "python_3.10.x"
  },
  "language_info": {
   "codemirror_mode": {
    "name": "ipython",
    "version": 3
   },
   "file_extension": ".py",
   "mimetype": "text/x-python",
   "name": "python",
   "nbconvert_exporter": "python",
   "pygments_lexer": "ipython3",
   "version": "3.10.6"
  }
 },
 "nbformat": 4,
 "nbformat_minor": 5
}
